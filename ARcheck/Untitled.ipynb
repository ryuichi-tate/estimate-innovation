{
 "cells": [
  {
   "cell_type": "markdown",
   "metadata": {},
   "source": [
    "## 2020/4/22の近況報告会を受けて\n",
    "\n",
    "まずはARモデルで作成した人工時系列を用いて、**きちんとARモデルの係数が推定できているのか**を確認すべき。\n",
    "\n",
    "$G_{\\theta}$と$F_{\\phi}$は活性化関数を直線にした一層のニューラルネットで！"
   ]
  },
  {
   "cell_type": "code",
   "execution_count": 1,
   "metadata": {},
   "outputs": [],
   "source": [
    "import argparse\n",
    "import os\n",
    "import numpy as np\n",
    "from scipy import stats\n",
    "import math\n",
    "import sys\n",
    "import random\n",
    "\n",
    "import torchvision.transforms as transforms\n",
    "from torchvision.utils import save_image\n",
    "\n",
    "import torch.nn as nn\n",
    "import torch.nn.functional as F\n",
    "import torch\n",
    "from torch.autograd import Variable"
   ]
  },
  {
   "cell_type": "code",
   "execution_count": 2,
   "metadata": {},
   "outputs": [
    {
     "ename": "ModuleNotFoundError",
     "evalue": "No module named 'tsModel'",
     "output_type": "error",
     "traceback": [
      "\u001b[0;31m---------------------------------------------------------------------------\u001b[0m",
      "\u001b[0;31mModuleNotFoundError\u001b[0m                       Traceback (most recent call last)",
      "\u001b[0;32m<ipython-input-2-8631e12e4534>\u001b[0m in \u001b[0;36m<module>\u001b[0;34m\u001b[0m\n\u001b[1;32m      1\u001b[0m \u001b[0;31m# 人工データを生成してくれる機械が置いてあるところ\u001b[0m\u001b[0;34m\u001b[0m\u001b[0;34m\u001b[0m\u001b[0m\n\u001b[0;32m----> 2\u001b[0;31m \u001b[0;32mimport\u001b[0m \u001b[0mtsModel\u001b[0m\u001b[0;34m\u001b[0m\u001b[0m\n\u001b[0m\u001b[1;32m      3\u001b[0m \u001b[0;31m# 学習用のニューラルネットが置いてあるところ\u001b[0m\u001b[0;34m\u001b[0m\u001b[0;34m\u001b[0m\u001b[0m\n\u001b[1;32m      4\u001b[0m \u001b[0;32mimport\u001b[0m \u001b[0mmodels\u001b[0m\u001b[0;34m\u001b[0m\u001b[0m\n",
      "\u001b[0;31mModuleNotFoundError\u001b[0m: No module named 'tsModel'"
     ]
    }
   ],
   "source": [
    "# 人工データを生成してくれる機械が置いてあるところ\n",
    "import tsModel\n",
    "# 学習用のニューラルネットが置いてあるところ\n",
    "import models"
   ]
  },
  {
   "cell_type": "code",
   "execution_count": null,
   "metadata": {},
   "outputs": [],
   "source": [
    "%matplotlib inline\n",
    "import matplotlib.pyplot as plt"
   ]
  },
  {
   "cell_type": "code",
   "execution_count": null,
   "metadata": {},
   "outputs": [],
   "source": [
    "# \"output-images\"フォルダを作成（既にあるならそれで良し）\n",
    "os.makedirs(\"output-images\", exist_ok=True)\n",
    "os.makedirs(\"parameters\", exist_ok=True)"
   ]
  },
  {
   "cell_type": "code",
   "execution_count": null,
   "metadata": {},
   "outputs": [],
   "source": [
    "# 学習時のハイパラの決定（入力を受け付ける）\n",
    "parser = argparse.ArgumentParser()\n",
    "parser.add_argument(\"--p\", type=int, default=7, help=\"ARの次数(generatorへの入力の次元)\")\n",
    "parser.add_argument(\"--generator_seed\", type=int, default=0, help=\"generatorのパラメータの初期値のシード\")\n",
    "parser.add_argument(\"--discriminator_seed\", type=int, default=0, help=\"discriminatorのパラメータの初期値のシード\")\n",
    "parser.add_argument(\"--batch_size\", type=int, default=64, help=\"batchの大きさ\")\n",
    "parser.add_argument(\"--discriminator_hidden_unit\", type=int, default=64, help=\"discriminatorの隠れ層のニューロンの数\")\n",
    "parser.add_argument(\"--lr\", type=float, default=0.00005, help=\"学習率\")\n",
    "# opt = parser.parse_args()\n",
    "opt = parser.parse_args(args=[])\n",
    "\n",
    "print(opt)"
   ]
  },
  {
   "cell_type": "code",
   "execution_count": null,
   "metadata": {},
   "outputs": [],
   "source": [
    "# gpuが使えるかどうか\n",
    "cuda = True if torch.cuda.is_available() else False\n",
    "if cuda:\n",
    "    print(\"GPUが使えます。\")\n",
    "    use_gpu = input('GPUを使いますか？ （Yes：1, No：0）  ----> ')\n",
    "    cuda = bool(int(use_gpu))\n",
    "else:\n",
    "    print(\"GPUは使えません。\")\n",
    "    \n",
    "if cuda:\n",
    "    gpu_id = input('使用するGPUの番号を入れてください : ')\n",
    "    os.environ[\"CUDA_VISIBLE_DEVICES\"] = gpu_id\n",
    "device = torch.device('cuda:'+gpu_id if cuda else 'cpu')"
   ]
  },
  {
   "cell_type": "code",
   "execution_count": null,
   "metadata": {},
   "outputs": [],
   "source": [
    "class LinearGenerator(nn.Module):\n",
    "    def __init__(self, p=7, input_dim=1, is_bias=False): # ネットワークで使う関数を定義する。\n",
    "        super(LinearGenerator, self).__init__()\n",
    "        # kernel\n",
    "        # nn.Conv1dについては、  https://pytorch.org/docs/stable/nn.html#conv1d  を参照\n",
    "        # self.conv1 = nn.Conv1d(1, n_filter, kernel_size =generator_kernel_size, stride =1, padding=(generator_kernel_size-1)//2, dilation=1, groups=1, bias=True, padding_mode='zeros')\n",
    "        # self.conv2 = nn.Conv1d(n_filter, n_filter, kernel_size =generator_kernel_size, stride =1, padding=(generator_kernel_size-1)//2, dilation=1, groups=1, bias=True, padding_mode='zeros')\n",
    "        # self.conv3 = nn.Conv1d(n_filter, n_filter, kernel_size =generator_kernel_size, stride =1, padding=(generator_kernel_size-1)//2, dilation=1, groups=1, bias=True, padding_mode='zeros')\n",
    "        # self.batchnorm1 = nn.BatchNorm1d(n_filter)\n",
    "        # self.batchnorm2 = nn.BatchNorm1d(n_filter)\n",
    "        # self.batchnorm3 = nn.BatchNorm1d(n_filter)\n",
    "        # 線形変換: y = Wx + b\n",
    "        self.fc1 = nn.Linear(p+1, 1,bias=is_bias)\n",
    "            \n",
    "    def forward(self, x):# ここでネットワークを構成する。入力はx。\n",
    "        # x = self.conv1(x)\n",
    "        # x = self.batchnorm1(x)\n",
    "        # x = F.leaky_relu(x)\n",
    "        # x = self.conv2(x)\n",
    "        # x = self.batchnorm2(x)\n",
    "        # x = F.leaky_relu(x)\n",
    "        x = x.view(-1, self.num_flat_features(x))\n",
    "        x = self.fc1(x)\n",
    "        return x # 出力\n",
    "\n",
    "    def num_flat_features(self, x):\n",
    "        size = x.size()[1:]  # all dimensions except the batch dimension\n",
    "        num_features = 1\n",
    "        for s in size:\n",
    "            num_features *= s\n",
    "        return num_features\n"
   ]
  },
  {
   "cell_type": "code",
   "execution_count": null,
   "metadata": {},
   "outputs": [],
   "source": [
    "torch.manual_seed(opt.generator_seed)\n",
    "generator = LinearGenerator(p = opt.p, is_bias=False)"
   ]
  },
  {
   "cell_type": "code",
   "execution_count": null,
   "metadata": {},
   "outputs": [],
   "source": [
    "a= torch.rand([opt.batch_size,1, opt.p+1])\n",
    "print(\"input size   :\",a.shape)\n",
    "b = generator(a)\n",
    "print(\"output size:\",b.shape)"
   ]
  },
  {
   "cell_type": "code",
   "execution_count": null,
   "metadata": {},
   "outputs": [],
   "source": [
    "torch.manual_seed(opt.discriminator_seed)\n",
    "discriminator = models.Discriminator(q=0, discriminator_hidden_unit=opt.discriminator_hidden_unit)"
   ]
  },
  {
   "cell_type": "code",
   "execution_count": null,
   "metadata": {},
   "outputs": [],
   "source": [
    "a= torch.rand([opt.batch_size, 1])\n",
    "print(\"input size   :\",a.shape)\n",
    "b = discriminator(a)\n",
    "print(\"output size:\",b.shape)"
   ]
  },
  {
   "cell_type": "markdown",
   "metadata": {},
   "source": [
    "### 人工データの作成"
   ]
  },
  {
   "cell_type": "code",
   "execution_count": null,
   "metadata": {},
   "outputs": [],
   "source": [
    "Data = tsModel.SARIMA(a=[0.3,-0.4,0.3,-0.4,0.3,-0.4,0.3], N=1400, random_seed=0, sigma=2)\n",
    "Data = torch.tensor(Data)\n",
    "plt.figure(figsize=(13,8))\n",
    "plt.plot(Data)\n",
    "plt.savefig(\"images/AR7モデルの人工データ.png\")\n",
    "plt.show()"
   ]
  },
  {
   "cell_type": "code",
   "execution_count": null,
   "metadata": {},
   "outputs": [],
   "source": [
    "Data=Data.view(1,-1)"
   ]
  },
  {
   "cell_type": "code",
   "execution_count": null,
   "metadata": {},
   "outputs": [],
   "source": [
    "trainData = Data[:,:1000]\n",
    "valData = Data[:,1000:1200]\n",
    "testData = Data[:,1200:]"
   ]
  },
  {
   "cell_type": "code",
   "execution_count": null,
   "metadata": {},
   "outputs": [],
   "source": [
    "trainMatrix = []\n",
    "for i in range(trainData.shape[1]-(opt.p+1)):\n",
    "    ans = trainData[:,i:i+opt.p+1].view(1,Data.shape[0],-1)\n",
    "    trainMatrix.append(ans)\n",
    "trainMatrix = torch.cat(trainMatrix)\n",
    "trainMatrix.shape"
   ]
  },
  {
   "cell_type": "code",
   "execution_count": null,
   "metadata": {},
   "outputs": [],
   "source": [
    "valMatrix = []\n",
    "for i in range(valData.shape[1]-(opt.p+1)):\n",
    "    ans = valData[:,i:i+opt.p+1].view(1,Data.shape[0],-1)\n",
    "    valMatrix.append(ans)\n",
    "valMatrix = torch.cat(valMatrix)\n",
    "valMatrix.shape"
   ]
  },
  {
   "cell_type": "code",
   "execution_count": null,
   "metadata": {},
   "outputs": [],
   "source": [
    "# Optimizers(パラメータに対して定義される)\n",
    "optimizer_G = torch.optim.RMSprop(generator.parameters(), lr=opt.lr)\n",
    "optimizer_D = torch.optim.RMSprop(discriminator.parameters(), lr=opt.lr)"
   ]
  },
  {
   "cell_type": "code",
   "execution_count": null,
   "metadata": {},
   "outputs": [],
   "source": [
    "def gradient_penalty(generated_data, real_data, gp_weight=10):\n",
    "\n",
    "    batch_size = real_data.size()[0]\n",
    "\n",
    "    alpha = torch.rand(batch_size, 1)\n",
    "    alpha = alpha.expand_as(real_data)\n",
    "    if cuda:\n",
    "        alpha=alpha.to(device)\n",
    "\n",
    "    interpolated = alpha * real_data.data + (1 - alpha) * generated_data.data\n",
    "    interpolated = Variable(interpolated, requires_grad=True)\n",
    "    if cuda:\n",
    "        interpolated=interpolated.to(device)\n",
    "\n",
    "    # Calculate probability of interpolated examples\n",
    "    prob_interpolated = discriminator(interpolated)\n",
    "\n",
    "    gradients = torch.autograd.grad(outputs=prob_interpolated, inputs=interpolated,\n",
    "                               grad_outputs=torch.ones(prob_interpolated.size()).to(device) if cuda else torch.ones(\n",
    "                               prob_interpolated.size()),\n",
    "                               create_graph=True, retain_graph=True)[0]\n",
    "\n",
    "    gradients = gradients.view(batch_size, -1)# これいらないかも...\n",
    "    \n",
    "    # gradients_norm = (gradients.norm(2, dim=1) - 1) ** 2\n",
    "    gradients_norm = torch.sqrt(torch.sum(gradients ** 2, dim=1) + 1e-12)# 0除算を防ぐ？\n",
    "\n",
    "    return gp_weight * ((gradients_norm - 1) ** 2).mean()"
   ]
  },
  {
   "cell_type": "code",
   "execution_count": null,
   "metadata": {},
   "outputs": [],
   "source": []
  }
 ],
 "metadata": {
  "kernelspec": {
   "display_name": "Python 3",
   "language": "python",
   "name": "python3"
  },
  "language_info": {
   "codemirror_mode": {
    "name": "ipython",
    "version": 3
   },
   "file_extension": ".py",
   "mimetype": "text/x-python",
   "name": "python",
   "nbconvert_exporter": "python",
   "pygments_lexer": "ipython3",
   "version": "3.6.2"
  }
 },
 "nbformat": 4,
 "nbformat_minor": 2
}
