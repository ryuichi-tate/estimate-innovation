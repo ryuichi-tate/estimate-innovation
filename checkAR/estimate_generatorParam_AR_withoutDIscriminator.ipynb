{
 "cells": [
  {
   "cell_type": "markdown",
   "metadata": {},
   "source": [
    "# estimate_ARparams_by_NNで推定した$F$を用いてwithoutDiscriminatorで$G$を学習"
   ]
  },
  {
   "cell_type": "code",
   "execution_count": 1,
   "metadata": {},
   "outputs": [
    {
     "data": {
      "text/plain": [
       "'/home/lab/ryuichi/Documents/research/estimate-innovation/'"
      ]
     },
     "execution_count": 1,
     "metadata": {},
     "output_type": "execute_result"
    }
   ],
   "source": [
    "import argparse\n",
    "import os\n",
    "path = os.getcwd()\n",
    "path=path[:path.find('estimate-innovation')+20]\n",
    "# No = (os.path.basename(__file__))[-4]\n",
    "No = \"0\" # notebook用\n",
    "# print('実験No.'+No)\n",
    "import warnings\n",
    "warnings.simplefilter('ignore')# 警告を非表示\n",
    "import numpy as np\n",
    "np.set_printoptions(precision=4, floatmode='fixed', suppress=True)\n",
    "import matplotlib.pyplot as plt\n",
    "from scipy import stats\n",
    "import math\n",
    "import sys\n",
    "sys.path.append(path)\n",
    "import random\n",
    "import time\n",
    "import statsmodels.api as sm\n",
    "from scipy.stats import norm\n",
    "import japanize_matplotlib\n",
    "from scipy.stats import gaussian_kde\n",
    "\n",
    "import torchvision.transforms as transforms\n",
    "from torchvision.utils import save_image\n",
    "\n",
    "import torch.nn as nn\n",
    "import torch.nn.functional as F\n",
    "import torch\n",
    "from torch.autograd import Variable\n",
    "# 人工データを生成してくれる機械が置いてあるところ\n",
    "import tsModel\n",
    "# 学習用のニューラルネットが置いてあるところ\n",
    "import models\n",
    "# p-Wasserstein距離の関数\n",
    "import Wasserstein\n",
    "path"
   ]
  },
  {
   "cell_type": "markdown",
   "metadata": {},
   "source": [
    "### ARモデルに従う時系列の作成（Fの学習と同じやつを使う）"
   ]
  },
  {
   "cell_type": "code",
   "execution_count": 2,
   "metadata": {},
   "outputs": [],
   "source": [
    "phi_a = [1.0, -0.5, 0.7, -0.4]\n",
    "phi_b = [0]\n",
    "p = len(phi_a)\n",
    "q = len(phi_b)\n",
    "dataSeed=5\n",
    "N = 1000\n",
    "data = tsModel.ARIMA(a=phi_a, b=phi_b, N=N, random_seed=dataSeed, randomness='normal')\n",
    "inno = tsModel.ARIMA(a=phi_a, b=phi_b, N=N, random_seed=dataSeed, randomness='normal', return_innovation=True)"
   ]
  },
  {
   "cell_type": "markdown",
   "metadata": {},
   "source": [
    "### GPUが使えるかどうかを確認"
   ]
  },
  {
   "cell_type": "code",
   "execution_count": 3,
   "metadata": {},
   "outputs": [
    {
     "name": "stdout",
     "output_type": "stream",
     "text": [
      "GPUが使えます。\n",
      "GPUを使いますか？ （Yes：1, No：0）： 0\n"
     ]
    }
   ],
   "source": [
    "import checkGPU\n",
    "cuda, device = checkGPU.checkGPU()"
   ]
  },
  {
   "cell_type": "markdown",
   "metadata": {},
   "source": [
    "### 推定に用いる$\\hat p$を決定"
   ]
  },
  {
   "cell_type": "code",
   "execution_count": 4,
   "metadata": {},
   "outputs": [],
   "source": [
    "hat_p = 4"
   ]
  },
  {
   "cell_type": "markdown",
   "metadata": {},
   "source": [
    "### 学習曲線などの画像を保管するディレクトリと、NNのパラメータを保存するディレクトリを作成"
   ]
  },
  {
   "cell_type": "code",
   "execution_count": 5,
   "metadata": {},
   "outputs": [],
   "source": [
    "os.makedirs(\"output-images/p{0}\".format(hat_p), exist_ok=True)\n",
    "os.makedirs(\"parameters/p{0}\".format(hat_p), exist_ok=True)"
   ]
  },
  {
   "cell_type": "markdown",
   "metadata": {},
   "source": [
    "### NNを学習する時のハイパラを決定する"
   ]
  },
  {
   "cell_type": "code",
   "execution_count": 6,
   "metadata": {},
   "outputs": [],
   "source": [
    "parser = argparse.ArgumentParser()\n",
    "parser.add_argument(\"--generator_seed\", type=int, default=0, help=\"generatorのパラメータの初期値のシード\")\n",
    "parser.add_argument(\"--predictor_seed\", type=int, default=0, help=\"predictorのパラメータの初期値のシード\")\n",
    "parser.add_argument(\"--batch_size\", type=int, default=1, help=\"batchの大きさ\")\n",
    "parser.add_argument(\"--n_epochs\", type=int, default=1000, help=\"学習させる回数\")\n",
    "parser.add_argument(\"--lamda\", type=float, default=1.0, help=\"mseに対するWasserstein損失の割合（正則化係数）\")\n",
    "# opt = parser.parse_args() # .pyの場合はこちらを使用(.ipynbの場合エラーになります)\n",
    "opt = parser.parse_args(args=[]) # .ipynbの場合はこちらを使用"
   ]
  },
  {
   "cell_type": "markdown",
   "metadata": {},
   "source": [
    "### NNモデルを作成($F$は学習済の$F$を読み込む)"
   ]
  },
  {
   "cell_type": "code",
   "execution_count": 7,
   "metadata": {},
   "outputs": [],
   "source": [
    "predictor = models.LinearPredictNet(input_size=hat_p+1)\n",
    "preF_paramPath = path+\"checkAR/parameters/p{0}/preLinearPredictor.pth\".format(hat_p)\n",
    "predictor.load_state_dict(torch.load(preF_paramPath))\n",
    "predictor = predictor.to(device)\n",
    "\n",
    "torch.manual_seed(opt.generator_seed)\n",
    "generator = models.LinearGenerator(input_size = hat_p+1)\n",
    "generator = generator.to(device)"
   ]
  },
  {
   "cell_type": "markdown",
   "metadata": {},
   "source": [
    "### $\\varepsilon$からの重さを1にする"
   ]
  },
  {
   "cell_type": "code",
   "execution_count": 8,
   "metadata": {},
   "outputs": [],
   "source": [
    "predictor.fc1.weight.data[0][0] = 1"
   ]
  },
  {
   "cell_type": "code",
   "execution_count": 9,
   "metadata": {},
   "outputs": [
    {
     "data": {
      "text/plain": [
       "OrderedDict([('fc1.weight',\n",
       "              tensor([[ 1.0000, -0.4017,  0.7122, -0.5019,  1.0023]]))])"
      ]
     },
     "execution_count": 9,
     "metadata": {},
     "output_type": "execute_result"
    }
   ],
   "source": [
    "predictor.state_dict()"
   ]
  },
  {
   "cell_type": "markdown",
   "metadata": {},
   "source": [
    "### 学習データとvalidationデータを分ける（9:1）"
   ]
  },
  {
   "cell_type": "code",
   "execution_count": 10,
   "metadata": {},
   "outputs": [],
   "source": [
    "trainData = data[:N//10*9]\n",
    "valData = data[N//10*9:]"
   ]
  },
  {
   "cell_type": "markdown",
   "metadata": {},
   "source": [
    "### データローダの作成"
   ]
  },
  {
   "cell_type": "code",
   "execution_count": 11,
   "metadata": {},
   "outputs": [],
   "source": [
    "import my_preprocess\n",
    "train_dataset = my_preprocess.DataSet(tsData=trainData, hat_p=hat_p, device=device)\n",
    "train_dataloader = torch.utils.data.DataLoader(train_dataset, batch_size=opt.batch_size, shuffle=True, drop_last=True)\n",
    "val_dataset = my_preprocess.DataSet(tsData=valData, hat_p=hat_p, device=device)\n",
    "val_dataloader = torch.utils.data.DataLoader(val_dataset, batch_size=1, shuffle=False, drop_last=True)"
   ]
  },
  {
   "cell_type": "markdown",
   "metadata": {},
   "source": [
    "### 最適化手法の設定"
   ]
  },
  {
   "cell_type": "code",
   "execution_count": 12,
   "metadata": {},
   "outputs": [],
   "source": [
    "optimizer_F = torch.optim.Adam(params=predictor.parameters(), lr=0.0001 )\n",
    "optimizer_G = torch.optim.Adam(params=generator.parameters(), lr=0.0001 )\n",
    "# optimizer_F = torch.optim.SGD(params=predictor.parameters(), lr = 0.00005)"
   ]
  },
  {
   "cell_type": "markdown",
   "metadata": {},
   "source": [
    "### Lossの設計"
   ]
  },
  {
   "cell_type": "code",
   "execution_count": 13,
   "metadata": {},
   "outputs": [],
   "source": [
    "mseLoss = nn.MSELoss()\n",
    "mseLoss = mseLoss.to(device)\n",
    "# Variable(Wasserstein.pWasserstein(hat_normeps_t.view(opt.batch_size), p=1), requires_grad=True).to(device)"
   ]
  },
  {
   "cell_type": "markdown",
   "metadata": {},
   "source": [
    "### 学習に必要なリスト"
   ]
  },
  {
   "cell_type": "code",
   "execution_count": 14,
   "metadata": {},
   "outputs": [],
   "source": [
    "train_lossList_mse = []\n",
    "val_lossList_mse = []\n",
    "train_lossList_Wasser = []\n",
    "val_lossList_Wasser = []"
   ]
  },
  {
   "cell_type": "markdown",
   "metadata": {},
   "source": [
    "### 学習\n",
    "\n",
    "学習プランは、\n",
    "- Gのパラメタ更新をONに、FはOFF\n",
    "- Loss = Wasserstein + mseとしてGを学習\n",
    "- しばらく学習したら、今度はFも更新可能にして学習"
   ]
  },
  {
   "cell_type": "code",
   "execution_count": 15,
   "metadata": {},
   "outputs": [
    {
     "name": "stdout",
     "output_type": "stream",
     "text": [
      "epoch：100/1000   val_loss_mse： 1.045e-12  val_loss_Wasser: 1.081   経過時間： 208.9秒\n",
      "epoch：200/1000   val_loss_mse： 1.046e-10  val_loss_Wasser: 1.081   経過時間： 418.0秒\n",
      "epoch：300/1000   val_loss_mse： 2.918e-09  val_loss_Wasser: 1.082   経過時間： 627.1秒\n",
      "epoch：400/1000   val_loss_mse： 1.045e-13  val_loss_Wasser: 1.082   経過時間： 836.1秒\n",
      "epoch：500/1000   val_loss_mse： 4.785e-10  val_loss_Wasser: 1.082   経過時間： 1044.8秒\n",
      "epoch：600/1000   val_loss_mse： 2.44e-12  val_loss_Wasser: 1.082   経過時間： 1254.7秒\n",
      "epoch：700/1000   val_loss_mse： 1.141e-13  val_loss_Wasser: 1.083   経過時間： 1467.4秒\n",
      "epoch：800/1000   val_loss_mse： 2.947e-09  val_loss_Wasser: 1.082   経過時間： 1677.0秒\n",
      "epoch：900/1000   val_loss_mse： 2.817e-09  val_loss_Wasser: 1.083   経過時間： 1886.1秒\n",
      "epoch：1000/1000   val_loss_mse： 1.569e-08  val_loss_Wasser: 1.082   経過時間： 2095.9秒\n"
     ]
    }
   ],
   "source": [
    "minLoss = np.inf\n",
    "paramPath_F = path+\"checkAR/parameters/p{0}/LinearPredictor.pth\".format(hat_p)\n",
    "paramPath_G = path+\"checkAR/parameters/p{0}/LinearGenerator.pth\".format(hat_p)\n",
    "\n",
    "start = time.time()\n",
    "\n",
    "for param in generator.parameters(): # generatorの勾配の更新をONにする\n",
    "    param.requires_grad = True \n",
    "for param in predictor.parameters(): # predictorの勾配の更新をOFFにする\n",
    "    param.requires_grad = False\n",
    "PredictorTrainFlag = False\n",
    "    \n",
    "for epoch in range( opt.n_epochs):# epochごとの処理\n",
    "    \n",
    "    # たまにPredictorも学習する（勾配の更新を許可する）\n",
    "    if epoch%10==10-1:\n",
    "        PredictorTrainFlag = True\n",
    "        for param in predictor.parameters():\n",
    "            param.requires_grad = True\n",
    "    \n",
    "    train_epoch_loss_mse = 0 # itelationごとに出力されるLossのbatch平均を足しこむ変数（あとでitelationの回数で割ってlossListにappendする）\n",
    "    train_epoch_loss_Wasser = 0\n",
    "    for idx, (X, Y) in enumerate(train_dataloader):\n",
    "        X=X.to(device)\n",
    "        Y=Y.to(device)\n",
    "        \"\"\"\n",
    "        Generatorの学習\n",
    "        \"\"\"\n",
    "        train_input_tensor_G = torch.cat([X, Y.view([-1,1])], axis=1)\n",
    "        train_output_tensor_G = generator(train_input_tensor_G)\n",
    "        train_input_tensor_F = torch.cat([train_output_tensor_G, X], axis=1)# ランダムな次元を追加\n",
    "        train_output_tensor_F = predictor(train_input_tensor_F)\n",
    "            \n",
    "        Wasser_loss = Variable(Wasserstein.pWasserstein(train_output_tensor_G, p=1, device=device), requires_grad=True)\n",
    "        mse_loss = mseLoss(train_output_tensor_F, Y.to(device))\n",
    "        train_loss =  opt.lamda*Wasser_loss + mse_loss \n",
    "        \n",
    "        train_loss.backward()# 勾配をとる\n",
    "        optimizer_G.step()# 勾配情報と最適化手法を元にparameterを更新\n",
    "        optimizer_G.zero_grad()\n",
    "        \n",
    "        # もしPredictorも学習するならしないとね\n",
    "        if PredictorTrainFlag:\n",
    "            optimizer_F.step()\n",
    "            optimizer_F.zero_grad()\n",
    "        \n",
    "        train_epoch_loss_mse += mse_loss.item()\n",
    "        train_epoch_loss_Wasser += Wasser_loss.item()\n",
    "    train_lossList_mse.append(train_epoch_loss_mse/(idx+1))\n",
    "    train_lossList_Wasser.append(train_epoch_loss_Wasser/(idx+1))\n",
    "   \n",
    "    # そして再び不許可に。\n",
    "    if PredictorTrainFlag:\n",
    "        for param in predictor.parameters():\n",
    "            param.requires_grad = False\n",
    "        PredictorTrainFlag=False\n",
    "\n",
    "    val_epoch_loss_mse = 0 # itelationごとに出力されるLossのbatch平均を足しこむ変数（あとでitelationの回数で割ってlossListにappendする）\n",
    "    val_epoch_loss_Wasser = 0\n",
    "    for idx, (X, Y) in enumerate(val_dataloader):\n",
    "        X=X.to(device)\n",
    "        Y=Y.to(device)\n",
    "        \"\"\"\n",
    "        Generatorの学習のvalidationの推移\n",
    "        \"\"\"\n",
    "        val_input_tensor_G = torch.cat([X, Y.view([-1,1])], axis=1)\n",
    "        val_output_tensor_G = generator(val_input_tensor_G)\n",
    "        val_input_tensor_F = torch.cat([val_output_tensor_G, X], axis=1)# ランダムな次元を追加\n",
    "        val_output_tensor_F = predictor(val_input_tensor_F)\n",
    "            \n",
    "        Wasser_loss = Variable(Wasserstein.pWasserstein(val_output_tensor_G, p=1, device=device), requires_grad=True)\n",
    "        mse_loss = mseLoss(val_output_tensor_F, Y.to(device))\n",
    "        val_loss =  opt.lamda*Wasser_loss + mse_loss \n",
    "        \n",
    "        val_epoch_loss_mse += mse_loss.item()\n",
    "        val_epoch_loss_Wasser += Wasser_loss.item()\n",
    "    val_lossList_mse.append(val_epoch_loss_mse/(idx+1))\n",
    "    val_lossList_Wasser.append(val_epoch_loss_Wasser/(idx+1))\n",
    "    \n",
    "    \n",
    "    if minLoss>val_lossList_mse[-1] + val_lossList_Wasser[-1]:\n",
    "        minLoss = val_lossList_mse[-1] + val_lossList_Wasser[-1]\n",
    "        torch.save(generator.state_dict(), paramPath_G)\n",
    "        torch.save(predictor.state_dict(), paramPath_F)\n",
    "        \n",
    "#     break\n",
    "    if epoch%100==100-1:\n",
    "        print(\"epoch：{0}/{1}   val_loss_mse：{2: .4g}  val_loss_Wasser:{3: .4g}   経過時間：{4: .1f}秒\".format(epoch+1, opt.n_epochs, val_lossList_mse[-1], val_lossList_Wasser[-1], time.time()-start))\n",
    "\n",
    "            "
   ]
  },
  {
   "cell_type": "code",
   "execution_count": 16,
   "metadata": {},
   "outputs": [
    {
     "data": {
      "text/plain": [
       "OrderedDict([('fc1.weight',\n",
       "              tensor([[ 0.3343, -0.5531,  0.3960, -0.8204,  0.8608]]))])"
      ]
     },
     "execution_count": 16,
     "metadata": {},
     "output_type": "execute_result"
    }
   ],
   "source": [
    "generator.state_dict()"
   ]
  },
  {
   "cell_type": "code",
   "execution_count": 17,
   "metadata": {},
   "outputs": [
    {
     "data": {
      "text/plain": [
       "OrderedDict([('fc1.weight',\n",
       "              tensor([[ 1.1617, -0.3883,  0.6426, -0.4599,  0.9531]]))])"
      ]
     },
     "execution_count": 17,
     "metadata": {},
     "output_type": "execute_result"
    }
   ],
   "source": [
    "predictor.state_dict()"
   ]
  },
  {
   "cell_type": "code",
   "execution_count": 18,
   "metadata": {},
   "outputs": [
    {
     "data": {
      "text/plain": [
       "OrderedDict([('fc1.weight',\n",
       "              tensor([[ 1.1617, -0.3883,  0.6426, -0.4599,  0.9531]]))])"
      ]
     },
     "execution_count": 18,
     "metadata": {},
     "output_type": "execute_result"
    }
   ],
   "source": [
    "predictor.state_dict()"
   ]
  },
  {
   "cell_type": "code",
   "execution_count": 19,
   "metadata": {},
   "outputs": [
    {
     "data": {
      "text/plain": [
       "<matplotlib.legend.Legend at 0x7f88d4219d30>"
      ]
     },
     "execution_count": 19,
     "metadata": {},
     "output_type": "execute_result"
    },
    {
     "data": {
      "image/png": "[encoded data removed]",
      "text/plain": [
       "<Figure size 1152x288 with 1 Axes>"
      ]
     },
     "metadata": {
      "needs_background": "light"
     },
     "output_type": "display_data"
    }
   ],
   "source": [
    "plt.figure(figsize=(16,4))\n",
    "plt.plot(train_lossList_mse, label=\"train mse\")\n",
    "plt.plot(val_lossList_mse, label=\"validation mse\")\n",
    "plt.plot(train_lossList_Wasser, label=\"train Wasserstein\")\n",
    "plt.plot(val_lossList_Wasser, label=\"validation Wasserstein\")\n",
    "plt.legend()"
   ]
  },
  {
   "cell_type": "code",
   "execution_count": 20,
   "metadata": {},
   "outputs": [
    {
     "data": {
      "text/plain": [
       "<matplotlib.legend.Legend at 0x7f88d4002358>"
      ]
     },
     "execution_count": 20,
     "metadata": {},
     "output_type": "execute_result"
    },
    {
     "data": {
      "image/png": "[encoded data removed]",
      "text/plain": [
       "<Figure size 1152x288 with 1 Axes>"
      ]
     },
     "metadata": {
      "needs_background": "light"
     },
     "output_type": "display_data"
    }
   ],
   "source": [
    "plt.figure(figsize=(16,4))\n",
    "plt.plot(np.array(train_lossList_mse) + np.array(train_lossList_Wasser), label=\"train\")\n",
    "plt.plot(np.array(val_lossList_mse) + np.array(val_lossList_Wasser), label=\"validation\")\n",
    "plt.legend()"
   ]
  },
  {
   "cell_type": "code",
   "execution_count": 21,
   "metadata": {},
   "outputs": [
    {
     "data": {
      "text/plain": [
       "OrderedDict([('fc1.weight',\n",
       "              tensor([[ 1.1617, -0.3883,  0.6426, -0.4599,  0.9531]]))])"
      ]
     },
     "execution_count": 21,
     "metadata": {},
     "output_type": "execute_result"
    }
   ],
   "source": [
    "predictor.state_dict()"
   ]
  },
  {
   "cell_type": "code",
   "execution_count": 22,
   "metadata": {},
   "outputs": [
    {
     "data": {
      "text/plain": [
       "OrderedDict([('fc1.weight',\n",
       "              tensor([[ 0.3343, -0.5531,  0.3960, -0.8204,  0.8608]]))])"
      ]
     },
     "execution_count": 22,
     "metadata": {},
     "output_type": "execute_result"
    }
   ],
   "source": [
    "generator.state_dict()"
   ]
  }
 ],
 "metadata": {
  "kernelspec": {
   "display_name": "Python 3",
   "language": "python",
   "name": "python3"
  },
  "language_info": {
   "codemirror_mode": {
    "name": "ipython",
    "version": 3
   },
   "file_extension": ".py",
   "mimetype": "text/x-python",
   "name": "python",
   "nbconvert_exporter": "python",
   "pygments_lexer": "ipython3",
   "version": "3.6.2"
  }
 },
 "nbformat": 4,
 "nbformat_minor": 2
}
