{
 "cells": [
  {
   "cell_type": "markdown",
   "metadata": {},
   "source": [
    "# ARモデルに従う時系列の次時刻予測を、線形NNで行う。（最小二乗法）"
   ]
  },
  {
   "cell_type": "code",
   "execution_count": 1,
   "metadata": {},
   "outputs": [
    {
     "data": {
      "text/plain": [
       "'/home/lab/ryuichi/Documents/research/estimate-innovation/'"
      ]
     },
     "execution_count": 1,
     "metadata": {},
     "output_type": "execute_result"
    }
   ],
   "source": [
    "import argparse\n",
    "import os\n",
    "path = os.getcwd()\n",
    "path=path[:path.find('estimate-innovation')+20]\n",
    "# No = (os.path.basename(__file__))[-4]\n",
    "No = \"0\" # notebook用\n",
    "# print('実験No.'+No)\n",
    "import warnings\n",
    "warnings.simplefilter('ignore')# 警告を非表示\n",
    "import numpy as np\n",
    "np.set_printoptions(precision=4, floatmode='fixed', suppress=True)\n",
    "import matplotlib.pyplot as plt\n",
    "from scipy import stats\n",
    "import math\n",
    "import sys\n",
    "sys.path.append(path)\n",
    "import random\n",
    "import time\n",
    "import statsmodels.api as sm\n",
    "from scipy.stats import norm\n",
    "import japanize_matplotlib\n",
    "from scipy.stats import gaussian_kde\n",
    "\n",
    "import torchvision.transforms as transforms\n",
    "from torchvision.utils import save_image\n",
    "\n",
    "import torch.nn as nn\n",
    "import torch.nn.functional as F\n",
    "import torch\n",
    "from torch.autograd import Variable\n",
    "# 人工データを生成してくれる機械が置いてあるところ\n",
    "import tsModel\n",
    "# 学習用のニューラルネットが置いてあるところ\n",
    "import models\n",
    "# p-Wasserstein距離の関数\n",
    "# import Wasserstein\n",
    "path"
   ]
  },
  {
   "cell_type": "markdown",
   "metadata": {},
   "source": [
    "### ARモデルに従う時系列の作成"
   ]
  },
  {
   "cell_type": "code",
   "execution_count": 2,
   "metadata": {},
   "outputs": [],
   "source": [
    "phi_a = [1.0, -0.5, 0.7, -0.4]\n",
    "phi_b = [0]\n",
    "p = len(phi_a)\n",
    "q = len(phi_b)\n",
    "dataSeed=5\n",
    "N = 1000\n",
    "data = tsModel.ARIMA(a=phi_a, b=phi_b, N=N, random_seed=dataSeed, randomness='normal')\n",
    "inno = tsModel.ARIMA(a=phi_a, b=phi_b, N=N, random_seed=dataSeed, randomness='normal', return_innovation=True)"
   ]
  },
  {
   "cell_type": "markdown",
   "metadata": {},
   "source": [
    "### 推定に用いる$\\hat p$を決定"
   ]
  },
  {
   "cell_type": "code",
   "execution_count": 3,
   "metadata": {},
   "outputs": [],
   "source": [
    "hat_p = 4"
   ]
  },
  {
   "cell_type": "markdown",
   "metadata": {},
   "source": [
    "### 学習曲線などの画像を保管するディレクトリと、NNのパラメータを保存するディレクトリを作成"
   ]
  },
  {
   "cell_type": "code",
   "execution_count": 4,
   "metadata": {},
   "outputs": [],
   "source": [
    "os.makedirs(\"output-images/p{0}\".format(hat_p), exist_ok=True)\n",
    "os.makedirs(\"parameters/p{0}\".format(hat_p), exist_ok=True)"
   ]
  },
  {
   "cell_type": "markdown",
   "metadata": {},
   "source": [
    "### GPUが使えるかどうかを確認"
   ]
  },
  {
   "cell_type": "code",
   "execution_count": 5,
   "metadata": {},
   "outputs": [
    {
     "name": "stdout",
     "output_type": "stream",
     "text": [
      "GPUが使えます。\n",
      "GPUを使いますか？ （Yes：1, No：0）： 0\n"
     ]
    }
   ],
   "source": [
    "import checkGPU\n",
    "cuda, device = checkGPU.checkGPU()"
   ]
  },
  {
   "cell_type": "markdown",
   "metadata": {},
   "source": [
    "### NNを学習する時のハイパラを決定する"
   ]
  },
  {
   "cell_type": "code",
   "execution_count": 6,
   "metadata": {},
   "outputs": [],
   "source": [
    "# 学習する推定モデルの形状や学習方法なんかを決定します\n",
    "# 学習時のハイパラの決定（入力を受け付ける）\n",
    "parser = argparse.ArgumentParser()\n",
    "# parser.add_argument(\"--generator_seed\", type=int, default=0, help=\"generatorのパラメータの初期値のシード\")\n",
    "parser.add_argument(\"--predictor_seed\", type=int, default=0, help=\"predictorのパラメータの初期値のシード\")\n",
    "parser.add_argument(\"--batch_size\", type=int, default=1, help=\"batchの大きさ\")\n",
    "# parser.add_argument(\"--training_seed\", type=int, default=0, help=\"訓練データを学習させる順番を決めるシード\")\n",
    "parser.add_argument(\"--n_epochs\", type=int, default=2000, help=\"学習させる回数\")\n",
    "\n",
    "opt = parser.parse_args(args=[]) # .ipynbの場合はこちらを使用"
   ]
  },
  {
   "cell_type": "markdown",
   "metadata": {},
   "source": [
    "### NNモデル（predictNet）を作成"
   ]
  },
  {
   "cell_type": "code",
   "execution_count": 7,
   "metadata": {},
   "outputs": [],
   "source": [
    "torch.manual_seed(opt.predictor_seed)\n",
    "predictor = models.LinearPredictNet(p=hat_p)\n",
    "predictor = predictor.to(device)"
   ]
  },
  {
   "cell_type": "markdown",
   "metadata": {},
   "source": [
    "### 学習データとvalidationデータを分ける（9:1）"
   ]
  },
  {
   "cell_type": "code",
   "execution_count": 8,
   "metadata": {},
   "outputs": [],
   "source": [
    "trainData = data[:N//10*9]\n",
    "valData = data[N//10*9:]"
   ]
  },
  {
   "cell_type": "markdown",
   "metadata": {},
   "source": [
    "### データローダの作成"
   ]
  },
  {
   "cell_type": "code",
   "execution_count": 9,
   "metadata": {},
   "outputs": [],
   "source": [
    "import my_preprocess\n",
    "train_dataset = my_preprocess.DataSet(tsData=trainData, hat_p=hat_p)\n",
    "train_dataloader = torch.utils.data.DataLoader(train_dataset, batch_size=opt.batch_size, shuffle=True, drop_last=True)\n",
    "val_dataset = my_preprocess.DataSet(tsData=valData, hat_p=hat_p)\n",
    "val_dataloader = torch.utils.data.DataLoader(val_dataset, batch_size=1, shuffle=False, drop_last=True)"
   ]
  },
  {
   "cell_type": "markdown",
   "metadata": {},
   "source": [
    "### 最適化手法の設定"
   ]
  },
  {
   "cell_type": "code",
   "execution_count": 10,
   "metadata": {},
   "outputs": [],
   "source": [
    "optimizer_F = torch.optim.Adam(params=predictor.parameters(), lr=0.001 )\n",
    "# optimizer_F = torch.optim.SGD(params=predictor.parameters(), lr = 0.00005)"
   ]
  },
  {
   "cell_type": "markdown",
   "metadata": {},
   "source": [
    "### Lossの設計"
   ]
  },
  {
   "cell_type": "code",
   "execution_count": 11,
   "metadata": {},
   "outputs": [],
   "source": [
    "mseLoss = nn.MSELoss()\n",
    "mseLoss = mseLoss.to(device)"
   ]
  },
  {
   "cell_type": "markdown",
   "metadata": {},
   "source": [
    "### 学習の間に保管したい値を格納する変数（lossの値など）"
   ]
  },
  {
   "cell_type": "code",
   "execution_count": 12,
   "metadata": {},
   "outputs": [],
   "source": [
    "train_lossList_F = []\n",
    "val_lossList_F = []"
   ]
  },
  {
   "cell_type": "markdown",
   "metadata": {},
   "source": [
    "### 学習"
   ]
  },
  {
   "cell_type": "code",
   "execution_count": 13,
   "metadata": {},
   "outputs": [
    {
     "name": "stdout",
     "output_type": "stream",
     "text": [
      "epoch：100/2000   train_loss_F： 0.9957  val_loss_F: 1.069   経過時間： 31.1秒\n",
      "epoch：200/2000   train_loss_F： 0.9957  val_loss_F: 1.072   経過時間： 58.4秒\n",
      "epoch：300/2000   train_loss_F： 0.9971  val_loss_F: 1.054   経過時間： 86.4秒\n",
      "epoch：400/2000   train_loss_F： 0.9976  val_loss_F: 1.07   経過時間： 113.7秒\n",
      "epoch：500/2000   train_loss_F： 0.996  val_loss_F: 1.057   経過時間： 140.9秒\n",
      "epoch：600/2000   train_loss_F： 0.9969  val_loss_F: 1.065   経過時間： 168.1秒\n",
      "epoch：700/2000   train_loss_F： 0.996  val_loss_F: 1.056   経過時間： 195.2秒\n",
      "epoch：800/2000   train_loss_F： 0.9957  val_loss_F: 1.054   経過時間： 223.3秒\n",
      "epoch：900/2000   train_loss_F： 0.994  val_loss_F: 1.053   経過時間： 251.6秒\n",
      "epoch：1000/2000   train_loss_F： 0.995  val_loss_F: 1.059   経過時間： 279.5秒\n",
      "epoch：1100/2000   train_loss_F： 0.996  val_loss_F: 1.056   経過時間： 307.9秒\n",
      "epoch：1200/2000   train_loss_F： 0.9915  val_loss_F: 1.094   経過時間： 336.0秒\n",
      "epoch：1300/2000   train_loss_F： 0.998  val_loss_F: 1.066   経過時間： 363.8秒\n",
      "epoch：1400/2000   train_loss_F： 0.9972  val_loss_F: 1.063   経過時間： 391.7秒\n",
      "epoch：1500/2000   train_loss_F： 0.9941  val_loss_F: 1.073   経過時間： 419.0秒\n",
      "epoch：1600/2000   train_loss_F： 0.996  val_loss_F: 1.053   経過時間： 447.3秒\n",
      "epoch：1700/2000   train_loss_F： 0.9937  val_loss_F: 1.068   経過時間： 474.6秒\n",
      "epoch：1800/2000   train_loss_F： 0.9969  val_loss_F: 1.054   経過時間： 502.6秒\n",
      "epoch：1900/2000   train_loss_F： 0.9962  val_loss_F: 1.059   経過時間： 530.4秒\n",
      "epoch：2000/2000   train_loss_F： 0.9931  val_loss_F: 1.076   経過時間： 558.6秒\n"
     ]
    }
   ],
   "source": [
    "start = time.time()\n",
    "for epoch in range(opt.n_epochs):\n",
    "    train_epoch_loss = 0\n",
    "#     optimizer_F.zero_grad()# 勾配情報を削除\n",
    "    for idx, (X, Y) in enumerate(train_dataloader):\n",
    "#         input_tensor = torch.cat([torch.ones([opt.batch_size,1]), X], axis=1).to(device)# ランダムな次元を追加\n",
    "        optimizer_F.zero_grad()# 勾配情報を削除\n",
    "        input_tensor = X.to(device)\n",
    "        output_tensor = predictor(input_tensor)\n",
    "        true_tensor = Y.to(device)\n",
    "        loss_F = mseLoss(output_tensor, true_tensor)\n",
    "        \n",
    "#         optimizer_F.zero_grad()# 勾配情報を削除\n",
    "        loss_F.backward()# 勾配をとる\n",
    "        optimizer_F.step()# 勾配情報と最適化手法を元にparameterを更新\n",
    "        train_epoch_loss += loss_F.item() # batchごとのlossを\n",
    "    \n",
    "    train_lossList_F.append(train_epoch_loss/(idx+1))\n",
    "    \n",
    "    val_epoch_loss = 0\n",
    "    for idx, (X, Y) in enumerate(val_dataloader):\n",
    "#         input_tensor = torch.cat([torch.zeros([1,1]), X], axis=1).to(device)# ランダムな次元を追加\n",
    "        input_tensor = X.to(device)\n",
    "        output_tensor = predictor(input_tensor)\n",
    "        true_tensor = Y.to(device)\n",
    "        val_loss_F = mseLoss(output_tensor, true_tensor)\n",
    "        val_epoch_loss += val_loss_F.item()\n",
    "    val_lossList_F.append(val_epoch_loss/(idx+1))\n",
    "    \n",
    "    if epoch%100==100-1:\n",
    "        print(\"epoch：{0}/{1}   train_loss_F：{2: .4g}  val_loss_F:{3: .4g}   経過時間：{4: .1f}秒\".format(epoch+1, opt.n_epochs, train_lossList_F[-1], val_lossList_F[-1], time.time()-start))\n",
    "        "
   ]
  },
  {
   "cell_type": "code",
   "execution_count": 14,
   "metadata": {},
   "outputs": [
    {
     "data": {
      "text/plain": [
       "<matplotlib.legend.Legend at 0x7ff5d19fd8d0>"
      ]
     },
     "execution_count": 14,
     "metadata": {},
     "output_type": "execute_result"
    },
    {
     "data": {
      "image/png": "[encoded data removed]",
      "text/plain": [
       "<Figure size 1152x288 with 1 Axes>"
      ]
     },
     "metadata": {
      "needs_background": "light"
     },
     "output_type": "display_data"
    }
   ],
   "source": [
    "plt.figure(figsize=(16,4))\n",
    "plt.plot(train_lossList_F, label=\"train\")\n",
    "plt.plot(val_lossList_F, label=\"validation\")\n",
    "plt.legend()"
   ]
  },
  {
   "cell_type": "code",
   "execution_count": 15,
   "metadata": {},
   "outputs": [
    {
     "data": {
      "text/plain": [
       "tensor([[ 0.9914, -0.5162,  0.6999, -0.4072]])"
      ]
     },
     "execution_count": 15,
     "metadata": {},
     "output_type": "execute_result"
    }
   ],
   "source": [
    "predictor.state_dict()['fc1.weight'].flip(dims=[1])"
   ]
  },
  {
   "cell_type": "code",
   "execution_count": 16,
   "metadata": {},
   "outputs": [
    {
     "data": {
      "text/plain": [
       "[1.0, -0.5, 0.7, -0.4]"
      ]
     },
     "execution_count": 16,
     "metadata": {},
     "output_type": "execute_result"
    }
   ],
   "source": [
    "phi_a"
   ]
  },
  {
   "cell_type": "code",
   "execution_count": null,
   "metadata": {},
   "outputs": [],
   "source": []
  },
  {
   "cell_type": "markdown",
   "metadata": {},
   "source": [
    "trainのLossとstatsモデるの　Lossが同じかどうか\n",
    "\n",
    "サイキットラーンの線形回帰をしてみる"
   ]
  },
  {
   "cell_type": "code",
   "execution_count": null,
   "metadata": {},
   "outputs": [],
   "source": []
  }
 ],
 "metadata": {
  "kernelspec": {
   "display_name": "Python 3",
   "language": "python",
   "name": "python3"
  },
  "language_info": {
   "codemirror_mode": {
    "name": "ipython",
    "version": 3
   },
   "file_extension": ".py",
   "mimetype": "text/x-python",
   "name": "python",
   "nbconvert_exporter": "python",
   "pygments_lexer": "ipython3",
   "version": "3.6.2"
  }
 },
 "nbformat": 4,
 "nbformat_minor": 2
}
