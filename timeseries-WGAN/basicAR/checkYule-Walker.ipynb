{
 "cells": [
  {
   "cell_type": "markdown",
   "metadata": {},
   "source": [
    "## そもそもARモデルをしっかり学習できるのかを確かめる"
   ]
  },
  {
   "cell_type": "markdown",
   "metadata": {},
   "source": [
    "次時刻予測をさせる"
   ]
  },
  {
   "cell_type": "code",
   "execution_count": 12,
   "metadata": {},
   "outputs": [],
   "source": [
    "import argparse\n",
    "import os\n",
    "path = os.getcwd()\n",
    "path=path[:path.find('timeseries-WGAN')+15]\n",
    "import numpy as np\n",
    "from scipy import stats\n",
    "import math\n",
    "import sys\n",
    "sys.path.append(path+\"/\")\n",
    "import random\n",
    "import statsmodels.api as sm\n",
    "from scipy.stats import norm\n",
    "\n",
    "import torchvision.transforms as transforms\n",
    "from torchvision.utils import save_image\n",
    "\n",
    "import torch.nn as nn\n",
    "import torch.nn.functional as F\n",
    "import torch\n",
    "from torch.autograd import Variable"
   ]
  },
  {
   "cell_type": "code",
   "execution_count": 13,
   "metadata": {},
   "outputs": [],
   "source": [
    "# 人工データを生成してくれる機械が置いてあるところ\n",
    "import tsModel\n",
    "# 学習用のニューラルネットが置いてあるところ\n",
    "import models"
   ]
  },
  {
   "cell_type": "code",
   "execution_count": 14,
   "metadata": {},
   "outputs": [],
   "source": [
    "%matplotlib inline\n",
    "import matplotlib.pyplot as plt"
   ]
  },
  {
   "cell_type": "code",
   "execution_count": 15,
   "metadata": {},
   "outputs": [],
   "source": [
    "# フォルダを作成（既にあるならそれで良し）\n",
    "os.makedirs(\"output-images\", exist_ok=True)\n",
    "os.makedirs(\"parameters\", exist_ok=True)"
   ]
  },
  {
   "cell_type": "code",
   "execution_count": 16,
   "metadata": {},
   "outputs": [],
   "source": [
    "p=7"
   ]
  },
  {
   "cell_type": "markdown",
   "metadata": {},
   "source": [
    "## NNで確かめる"
   ]
  },
  {
   "cell_type": "code",
   "execution_count": 17,
   "metadata": {},
   "outputs": [],
   "source": [
    "i=0"
   ]
  },
  {
   "cell_type": "code",
   "execution_count": 18,
   "metadata": {},
   "outputs": [],
   "source": [
    "net = models.LinearPredictNet(p = p, input_dim=1, is_bias=True)"
   ]
  },
  {
   "cell_type": "code",
   "execution_count": 35,
   "metadata": {
    "scrolled": true
   },
   "outputs": [
    {
     "name": "stdout",
     "output_type": "stream",
     "text": [
      "network_epoch100000_200000_batchSize64_networkSeed0_p7_networkBiasTrue_dataSeed7.pth\r\n",
      "network_epoch10000_200000_batchSize64_networkSeed0_p7_networkBiasTrue_dataSeed7.pth\r\n",
      "network_epoch10000_20000_batchSize64_networkSeed0_p7_networkBiasTrue_dataSeed0.pth\r\n",
      "network_epoch10000_40000_batchSize64_networkSeed0_p7_networkBiasTrue_dataSeed0.pth\r\n",
      "network_epoch1000_20000_batchSize64_networkSeed0_p7_networkBiasTrue_dataSeed0.pth\r\n",
      "network_epoch1000_4000_batchSize64_networkSeed0_p7_networkBiasTrue_dataSeed0.pth\r\n",
      "network_epoch110000_200000_batchSize64_networkSeed0_p7_networkBiasTrue_dataSeed7.pth\r\n",
      "network_epoch11000_20000_batchSize64_networkSeed0_p7_networkBiasTrue_dataSeed0.pth\r\n",
      "network_epoch120000_200000_batchSize64_networkSeed0_p7_networkBiasTrue_dataSeed7.pth\r\n",
      "network_epoch12000_20000_batchSize64_networkSeed0_p7_networkBiasTrue_dataSeed0.pth\r\n",
      "network_epoch130000_200000_batchSize64_networkSeed0_p7_networkBiasTrue_dataSeed7.pth\r\n",
      "network_epoch13000_20000_batchSize64_networkSeed0_p7_networkBiasTrue_dataSeed0.pth\r\n",
      "network_epoch140000_200000_batchSize64_networkSeed0_p7_networkBiasTrue_dataSeed7.pth\r\n",
      "network_epoch14000_20000_batchSize64_networkSeed0_p7_networkBiasTrue_dataSeed0.pth\r\n",
      "network_epoch150000_200000_batchSize64_networkSeed0_p7_networkBiasTrue_dataSeed7.pth\r\n",
      "network_epoch15000_20000_batchSize64_networkSeed0_p7_networkBiasTrue_dataSeed0.pth\r\n",
      "network_epoch160000_200000_batchSize64_networkSeed0_p7_networkBiasTrue_dataSeed7.pth\r\n",
      "network_epoch16000_20000_batchSize64_networkSeed0_p7_networkBiasTrue_dataSeed0.pth\r\n",
      "network_epoch170000_200000_batchSize64_networkSeed0_p7_networkBiasTrue_dataSeed7.pth\r\n",
      "network_epoch17000_20000_batchSize64_networkSeed0_p7_networkBiasTrue_dataSeed0.pth\r\n",
      "network_epoch180000_200000_batchSize64_networkSeed0_p7_networkBiasTrue_dataSeed7.pth\r\n",
      "network_epoch18000_20000_batchSize64_networkSeed0_p7_networkBiasTrue_dataSeed0.pth\r\n",
      "network_epoch190000_200000_batchSize64_networkSeed0_p7_networkBiasTrue_dataSeed7.pth\r\n",
      "network_epoch19000_20000_batchSize64_networkSeed0_p7_networkBiasTrue_dataSeed0.pth\r\n",
      "network_epoch200000_200000_batchSize64_networkSeed0_p7_networkBiasTrue_dataSeed7.pth\r\n",
      "network_epoch200000_batchSize64_networkSeed0_p7_networkBiasTrue_dataSeed7.pth\r\n",
      "network_epoch20000_200000_batchSize64_networkSeed0_p7_networkBiasTrue_dataSeed7.pth\r\n",
      "network_epoch20000_20000_batchSize64_networkSeed0_p7_networkBiasTrue_dataSeed0.pth\r\n",
      "network_epoch20000_40000_batchSize64_networkSeed0_p7_networkBiasTrue_dataSeed0.pth\r\n",
      "network_epoch20000_batchSize64_networkSeed0_p7_networkBiasTrue_dataSeed0.pth\r\n",
      "network_epoch20000_batchSize64_networkSeed0_p7_networkBiasTrue_dataSeed1.pth\r\n",
      "network_epoch20000_batchSize64_networkSeed0_p7_networkBiasTrue_dataSeed2.pth\r\n",
      "network_epoch20000_batchSize64_networkSeed0_p7_networkBiasTrue_dataSeed3.pth\r\n",
      "network_epoch20000_batchSize64_networkSeed0_p7_networkBiasTrue_dataSeed4.pth\r\n",
      "network_epoch20000_batchSize64_networkSeed0_p7_networkBiasTrue_dataSeed5.pth\r\n",
      "network_epoch20000_batchSize64_networkSeed0_p7_networkBiasTrue_dataSeed6.pth\r\n",
      "network_epoch20000_batchSize64_networkSeed0_p7_networkBiasTrue_dataSeed7.pth\r\n",
      "network_epoch20000_batchSize64_networkSeed0_p7_networkBiasTrue_dataSeed8.pth\r\n",
      "network_epoch20000_batchSize64_networkSeed0_p7_networkBiasTrue_dataSeed9.pth\r\n",
      "network_epoch2000_20000_batchSize64_networkSeed0_p7_networkBiasTrue_dataSeed0.pth\r\n",
      "network_epoch30000_200000_batchSize64_networkSeed0_p7_networkBiasTrue_dataSeed7.pth\r\n",
      "network_epoch30000_40000_batchSize64_networkSeed0_p7_networkBiasTrue_dataSeed0.pth\r\n",
      "network_epoch3000_20000_batchSize64_networkSeed0_p7_networkBiasTrue_dataSeed0.pth\r\n",
      "network_epoch40000_200000_batchSize64_networkSeed0_p7_networkBiasTrue_dataSeed7.pth\r\n",
      "network_epoch40000_40000_batchSize64_networkSeed0_p7_networkBiasTrue_dataSeed0.pth\r\n",
      "network_epoch40000_batchSize64_networkSeed0_p7_networkBiasTrue_dataSeed0.pth\r\n",
      "network_epoch4000_20000_batchSize64_networkSeed0_p7_networkBiasTrue_dataSeed0.pth\r\n",
      "network_epoch50000_200000_batchSize64_networkSeed0_p7_networkBiasTrue_dataSeed7.pth\r\n",
      "network_epoch5000_20000_batchSize64_networkSeed0_p7_networkBiasTrue_dataSeed0.pth\r\n",
      "network_epoch60000_200000_batchSize64_networkSeed0_p7_networkBiasTrue_dataSeed7.pth\r\n",
      "network_epoch6000_20000_batchSize64_networkSeed0_p7_networkBiasTrue_dataSeed0.pth\r\n",
      "network_epoch70000_200000_batchSize64_networkSeed0_p7_networkBiasTrue_dataSeed7.pth\r\n",
      "network_epoch7000_20000_batchSize64_networkSeed0_p7_networkBiasTrue_dataSeed0.pth\r\n",
      "network_epoch80000_200000_batchSize64_networkSeed0_p7_networkBiasTrue_dataSeed7.pth\r\n",
      "network_epoch8000_20000_batchSize64_networkSeed0_p7_networkBiasTrue_dataSeed0.pth\r\n",
      "network_epoch90000_200000_batchSize64_networkSeed0_p7_networkBiasTrue_dataSeed7.pth\r\n",
      "network_epoch9000_20000_batchSize64_networkSeed0_p7_networkBiasTrue_dataSeed0.pth\r\n"
     ]
    }
   ],
   "source": [
    "! ls change_seed_ver2/parameters/"
   ]
  },
  {
   "cell_type": "code",
   "execution_count": 31,
   "metadata": {},
   "outputs": [
    {
     "data": {
      "text/plain": [
       "'change_seed_ver2/parameters/network_epoch40000_batchSize64_networkSeed0_p7_networkBiasTrue_dataSeed0.pth'"
      ]
     },
     "execution_count": 31,
     "metadata": {},
     "output_type": "execute_result"
    }
   ],
   "source": [
    "parameter_path = \"change_seed_ver2/parameters/network_epoch40000_batchSize64_networkSeed0_p7_networkBiasTrue_dataSeed{0}.pth\".format(i)\n",
    "parameter_path"
   ]
  },
  {
   "cell_type": "code",
   "execution_count": 32,
   "metadata": {},
   "outputs": [
    {
     "data": {
      "text/plain": [
       "<All keys matched successfully>"
      ]
     },
     "execution_count": 32,
     "metadata": {},
     "output_type": "execute_result"
    }
   ],
   "source": [
    "net.load_state_dict(torch.load(parameter_path))"
   ]
  },
  {
   "cell_type": "code",
   "execution_count": 33,
   "metadata": {},
   "outputs": [
    {
     "data": {
      "text/plain": [
       "OrderedDict([('fc1.weight',\n",
       "              tensor([[ 0.1394, -0.0615,  0.5654, -0.5325,  0.2241, -0.3913,  0.2614, -0.0314]])),\n",
       "             ('fc1.bias', tensor([0.0573]))])"
      ]
     },
     "execution_count": 33,
     "metadata": {},
     "output_type": "execute_result"
    }
   ],
   "source": [
    "net.state_dict()"
   ]
  },
  {
   "cell_type": "code",
   "execution_count": 34,
   "metadata": {},
   "outputs": [
    {
     "data": {
      "text/plain": [
       "[0.3, -0.4, 0.2, -0.5, 0.6, -0.1, 0.1]"
      ]
     },
     "execution_count": 34,
     "metadata": {},
     "output_type": "execute_result"
    }
   ],
   "source": [
    "[0.3, -0.4, 0.2, -0.5, 0.6, -0.1, 0.1]"
   ]
  },
  {
   "cell_type": "code",
   "execution_count": 29,
   "metadata": {
    "scrolled": true
   },
   "outputs": [
    {
     "data": {
      "text/plain": [
       "tensor([ 0.1423, -0.0794,  0.5891, -0.5498,  0.2060, -0.4104,  0.2674,  0.0481])"
      ]
     },
     "execution_count": 29,
     "metadata": {},
     "output_type": "execute_result"
    }
   ],
   "source": [
    "net.state_dict()[\"fc1.weight\"][0]"
   ]
  },
  {
   "cell_type": "code",
   "execution_count": 12,
   "metadata": {},
   "outputs": [
    {
     "data": {
      "text/plain": [
       "0.055861249566078186"
      ]
     },
     "execution_count": 12,
     "metadata": {},
     "output_type": "execute_result"
    }
   ],
   "source": [
    "net.state_dict()[\"fc1.bias\"].item()"
   ]
  },
  {
   "cell_type": "code",
   "execution_count": 13,
   "metadata": {},
   "outputs": [],
   "source": [
    "params = []\n",
    "mu = []\n",
    "\n",
    "for i in range(10):\n",
    "    net = models.LinearPredictNet(p = p, input_dim=1, is_bias=True)\n",
    "    parameter_path = \"change_seed/parameters/network_epoch20000_batchSize64_networkSeed0_p7_networkBiasTrue_dataSeed{0}.pth\".format(i)\n",
    "    net.load_state_dict(torch.load(parameter_path))\n",
    "    params.append(np.array(net.state_dict()[\"fc1.weight\"][0]))\n",
    "    mu.append(net.state_dict()[\"fc1.bias\"].item())"
   ]
  },
  {
   "cell_type": "code",
   "execution_count": 14,
   "metadata": {},
   "outputs": [
    {
     "data": {
      "text/plain": [
       "[array([ 0.31314477, -0.36504686,  0.27184433, -0.43856618,  0.33677167,\n",
       "        -0.42010248,  0.26005104, -0.01064355], dtype=float32),\n",
       " array([ 0.29983357, -0.3969987 ,  0.27157873, -0.38687065,  0.2769836 ,\n",
       "        -0.3992239 ,  0.2647001 ,  0.01933478], dtype=float32),\n",
       " array([ 0.27080438, -0.39342478,  0.28358912, -0.40527612,  0.22151943,\n",
       "        -0.41049236,  0.2654277 ,  0.0069396 ], dtype=float32),\n",
       " array([ 0.29360873, -0.44982007,  0.2733666 , -0.43622828,  0.27736217,\n",
       "        -0.42202893,  0.27404442, -0.00865356], dtype=float32),\n",
       " array([ 0.2563577 , -0.38253444,  0.32640874, -0.47440857,  0.26235667,\n",
       "        -0.3748935 ,  0.30355993, -0.00252023], dtype=float32),\n",
       " array([ 0.32526284, -0.35008043,  0.2832891 , -0.35309443,  0.29167408,\n",
       "        -0.37545577,  0.29418257, -0.01228052], dtype=float32),\n",
       " array([ 0.23107277, -0.40981576,  0.25780845, -0.38802522,  0.26731107,\n",
       "        -0.37267247,  0.26718327,  0.00619552], dtype=float32),\n",
       " array([ 0.32252413, -0.40755153,  0.30345628, -0.36727062,  0.2839524 ,\n",
       "        -0.4082837 ,  0.33507344, -0.00471937], dtype=float32),\n",
       " array([ 0.2831305 , -0.405863  ,  0.27545816, -0.42338973,  0.2905702 ,\n",
       "        -0.38879618,  0.28092146,  0.01691499], dtype=float32),\n",
       " array([ 0.29322898, -0.37868756,  0.2658059 , -0.38401416,  0.27546477,\n",
       "        -0.37118652,  0.33535787,  0.00455801], dtype=float32)]"
      ]
     },
     "execution_count": 14,
     "metadata": {},
     "output_type": "execute_result"
    }
   ],
   "source": [
    "params"
   ]
  },
  {
   "cell_type": "code",
   "execution_count": 15,
   "metadata": {},
   "outputs": [
    {
     "data": {
      "text/plain": [
       "[0.055861249566078186,\n",
       " 0.0794120505452156,\n",
       " -0.09066326916217804,\n",
       " -0.09570492804050446,\n",
       " 0.016815723851323128,\n",
       " 0.0342823751270771,\n",
       " 0.022684520110487938,\n",
       " 0.02085406892001629,\n",
       " 0.07357200980186462,\n",
       " -0.03404462710022926]"
      ]
     },
     "execution_count": 15,
     "metadata": {},
     "output_type": "execute_result"
    }
   ],
   "source": [
    "mu"
   ]
  },
  {
   "cell_type": "code",
   "execution_count": 16,
   "metadata": {},
   "outputs": [
    {
     "name": "stdout",
     "output_type": "stream",
     "text": [
      "[ 0.28889686 -0.39398235  0.28126055 -0.40571442  0.2783966  -0.3943136\n",
      "  0.28805017  0.00151257]\n",
      "[0.02822203 0.02613973 0.01899416 0.03525268 0.02718427 0.01918498\n",
      " 0.02692717 0.01054511]\n"
     ]
    }
   ],
   "source": [
    "print(np.array(params).mean(axis = 0))\n",
    "print(np.array(params).std(axis = 0))"
   ]
  },
  {
   "cell_type": "code",
   "execution_count": 17,
   "metadata": {},
   "outputs": [
    {
     "name": "stdout",
     "output_type": "stream",
     "text": [
      "0.008306917361915111\n",
      "0.05924134751805972\n"
     ]
    }
   ],
   "source": [
    "print(np.array(mu).mean())\n",
    "print(np.array(mu).std())"
   ]
  },
  {
   "cell_type": "markdown",
   "metadata": {},
   "source": [
    "## 最小二乗法で確かめる 最尤推定と同じ？"
   ]
  },
  {
   "cell_type": "code",
   "execution_count": 19,
   "metadata": {},
   "outputs": [
    {
     "name": "stderr",
     "output_type": "stream",
     "text": [
      "/home/lab/ryuichi/.pyenv/versions/anaconda3-4.3.1/envs/test/lib/python3.6/site-packages/ipykernel_launcher.py:3: UserWarning: To copy construct from a tensor, it is recommended to use sourceTensor.clone().detach() or sourceTensor.clone().detach().requires_grad_(True), rather than torch.tensor(sourceTensor).\n",
      "  This is separate from the ipykernel package so we can avoid doing imports until\n"
     ]
    }
   ],
   "source": [
    "Data = tsModel.SARIMA(a=[0.3,-0.4,0.3,-0.4,0.3,-0.4,0.3], N=1400, random_seed=0, sigma=2)\n",
    "Data = torch.tensor(Data, dtype=torch.float)\n",
    "Data = torch.tensor(Data)\n",
    "Data=Data.view(1,-1)\n",
    "trainData = Data[:,:1000]"
   ]
  },
  {
   "cell_type": "code",
   "execution_count": 20,
   "metadata": {},
   "outputs": [
    {
     "name": "stdout",
     "output_type": "stream",
     "text": [
      "[ 0.05453728  0.2623633  -0.42140758  0.32590541 -0.43224141  0.27970304\n",
      " -0.3663014   0.30380131]\n",
      "3.668713789131543\n"
     ]
    }
   ],
   "source": [
    "ar_data = np.array(trainData.view(-1))\n",
    "model = sm.tsa.AR(ar_data)\n",
    "result = model.fit(maxlag=p)\n",
    "print(result.params)\n",
    "print(result.sigma2)"
   ]
  },
  {
   "cell_type": "code",
   "execution_count": 21,
   "metadata": {},
   "outputs": [
    {
     "name": "stderr",
     "output_type": "stream",
     "text": [
      "/home/lab/ryuichi/.pyenv/versions/anaconda3-4.3.1/envs/test/lib/python3.6/site-packages/ipykernel_launcher.py:6: UserWarning: To copy construct from a tensor, it is recommended to use sourceTensor.clone().detach() or sourceTensor.clone().detach().requires_grad_(True), rather than torch.tensor(sourceTensor).\n",
      "  \n"
     ]
    }
   ],
   "source": [
    "params = []\n",
    "sigma2 = []\n",
    "for i in range(10):\n",
    "    Data = tsModel.SARIMA(a=[0.3,-0.4,0.3,-0.4,0.3,-0.4,0.3], N=1400, random_seed=i, sigma=2)\n",
    "    Data = torch.tensor(Data, dtype=torch.float)\n",
    "    Data = torch.tensor(Data)\n",
    "    Data=Data.view(1,-1)\n",
    "    trainData = Data[:,:1000]\n",
    "\n",
    "    ar_data = np.array(trainData.view(-1))\n",
    "    model = sm.tsa.AR(ar_data)\n",
    "    result = model.fit(maxlag=p)\n",
    "    params.append(result.params)\n",
    "    sigma2.append(result.sigma2)"
   ]
  },
  {
   "cell_type": "code",
   "execution_count": 22,
   "metadata": {},
   "outputs": [
    {
     "data": {
      "text/plain": [
       "array([ 0.00967116,  0.28675394, -0.38915383,  0.27312712, -0.4003957 ,\n",
       "        0.28039884, -0.39498306,  0.28428313])"
      ]
     },
     "execution_count": 22,
     "metadata": {},
     "output_type": "execute_result"
    }
   ],
   "source": [
    "np.array(params).mean(axis=0)"
   ]
  },
  {
   "cell_type": "code",
   "execution_count": 23,
   "metadata": {},
   "outputs": [
    {
     "data": {
      "text/plain": [
       "array([0.06404926, 0.025956  , 0.02070671, 0.02824756, 0.03074804,\n",
       "       0.02224957, 0.02063428, 0.02866665])"
      ]
     },
     "execution_count": 23,
     "metadata": {},
     "output_type": "execute_result"
    }
   ],
   "source": [
    "np.array(params).std(axis=0)"
   ]
  },
  {
   "cell_type": "code",
   "execution_count": 24,
   "metadata": {},
   "outputs": [
    {
     "data": {
      "text/plain": [
       "3.887592035740114"
      ]
     },
     "execution_count": 24,
     "metadata": {},
     "output_type": "execute_result"
    }
   ],
   "source": [
    "np.array(sigma2).mean(axis=0)"
   ]
  },
  {
   "cell_type": "code",
   "execution_count": 25,
   "metadata": {},
   "outputs": [
    {
     "data": {
      "text/plain": [
       "1.9711659276568496"
      ]
     },
     "execution_count": 25,
     "metadata": {},
     "output_type": "execute_result"
    }
   ],
   "source": [
    "np.sqrt(sigma2).mean()"
   ]
  },
  {
   "cell_type": "code",
   "execution_count": 26,
   "metadata": {},
   "outputs": [
    {
     "data": {
      "text/plain": [
       "0.04579215418415814"
      ]
     },
     "execution_count": 26,
     "metadata": {},
     "output_type": "execute_result"
    }
   ],
   "source": [
    "np.sqrt(sigma2).std()"
   ]
  },
  {
   "cell_type": "markdown",
   "metadata": {},
   "source": [
    "## change_seed_ver2で学習したネットワークのパラメータを確認"
   ]
  },
  {
   "cell_type": "code",
   "execution_count": 6,
   "metadata": {},
   "outputs": [],
   "source": [
    "i=7"
   ]
  },
  {
   "cell_type": "code",
   "execution_count": 7,
   "metadata": {
    "scrolled": true
   },
   "outputs": [
    {
     "name": "stdout",
     "output_type": "stream",
     "text": [
      "network_epoch100000_200000_batchSize64_networkSeed0_p7_networkBiasTrue_dataSeed7.pth\r\n",
      "network_epoch10000_200000_batchSize64_networkSeed0_p7_networkBiasTrue_dataSeed7.pth\r\n",
      "network_epoch10000_20000_batchSize64_networkSeed0_p7_networkBiasTrue_dataSeed0.pth\r\n",
      "network_epoch1000_20000_batchSize64_networkSeed0_p7_networkBiasTrue_dataSeed0.pth\r\n",
      "network_epoch110000_200000_batchSize64_networkSeed0_p7_networkBiasTrue_dataSeed7.pth\r\n",
      "network_epoch11000_20000_batchSize64_networkSeed0_p7_networkBiasTrue_dataSeed0.pth\r\n",
      "network_epoch120000_200000_batchSize64_networkSeed0_p7_networkBiasTrue_dataSeed7.pth\r\n",
      "network_epoch12000_20000_batchSize64_networkSeed0_p7_networkBiasTrue_dataSeed0.pth\r\n",
      "network_epoch130000_200000_batchSize64_networkSeed0_p7_networkBiasTrue_dataSeed7.pth\r\n",
      "network_epoch13000_20000_batchSize64_networkSeed0_p7_networkBiasTrue_dataSeed0.pth\r\n",
      "network_epoch140000_200000_batchSize64_networkSeed0_p7_networkBiasTrue_dataSeed7.pth\r\n",
      "network_epoch14000_20000_batchSize64_networkSeed0_p7_networkBiasTrue_dataSeed0.pth\r\n",
      "network_epoch150000_200000_batchSize64_networkSeed0_p7_networkBiasTrue_dataSeed7.pth\r\n",
      "network_epoch15000_20000_batchSize64_networkSeed0_p7_networkBiasTrue_dataSeed0.pth\r\n",
      "network_epoch160000_200000_batchSize64_networkSeed0_p7_networkBiasTrue_dataSeed7.pth\r\n",
      "network_epoch16000_20000_batchSize64_networkSeed0_p7_networkBiasTrue_dataSeed0.pth\r\n",
      "network_epoch170000_200000_batchSize64_networkSeed0_p7_networkBiasTrue_dataSeed7.pth\r\n",
      "network_epoch17000_20000_batchSize64_networkSeed0_p7_networkBiasTrue_dataSeed0.pth\r\n",
      "network_epoch180000_200000_batchSize64_networkSeed0_p7_networkBiasTrue_dataSeed7.pth\r\n",
      "network_epoch18000_20000_batchSize64_networkSeed0_p7_networkBiasTrue_dataSeed0.pth\r\n",
      "network_epoch190000_200000_batchSize64_networkSeed0_p7_networkBiasTrue_dataSeed7.pth\r\n",
      "network_epoch19000_20000_batchSize64_networkSeed0_p7_networkBiasTrue_dataSeed0.pth\r\n",
      "network_epoch200000_200000_batchSize64_networkSeed0_p7_networkBiasTrue_dataSeed7.pth\r\n",
      "network_epoch200000_batchSize64_networkSeed0_p7_networkBiasTrue_dataSeed7.pth\r\n",
      "network_epoch20000_200000_batchSize64_networkSeed0_p7_networkBiasTrue_dataSeed7.pth\r\n",
      "network_epoch20000_20000_batchSize64_networkSeed0_p7_networkBiasTrue_dataSeed0.pth\r\n",
      "network_epoch20000_batchSize64_networkSeed0_p7_networkBiasTrue_dataSeed0.pth\r\n",
      "network_epoch20000_batchSize64_networkSeed0_p7_networkBiasTrue_dataSeed1.pth\r\n",
      "network_epoch20000_batchSize64_networkSeed0_p7_networkBiasTrue_dataSeed2.pth\r\n",
      "network_epoch20000_batchSize64_networkSeed0_p7_networkBiasTrue_dataSeed3.pth\r\n",
      "network_epoch20000_batchSize64_networkSeed0_p7_networkBiasTrue_dataSeed4.pth\r\n",
      "network_epoch20000_batchSize64_networkSeed0_p7_networkBiasTrue_dataSeed5.pth\r\n",
      "network_epoch20000_batchSize64_networkSeed0_p7_networkBiasTrue_dataSeed6.pth\r\n",
      "network_epoch20000_batchSize64_networkSeed0_p7_networkBiasTrue_dataSeed7.pth\r\n",
      "network_epoch20000_batchSize64_networkSeed0_p7_networkBiasTrue_dataSeed8.pth\r\n",
      "network_epoch20000_batchSize64_networkSeed0_p7_networkBiasTrue_dataSeed9.pth\r\n",
      "network_epoch2000_20000_batchSize64_networkSeed0_p7_networkBiasTrue_dataSeed0.pth\r\n",
      "network_epoch30000_200000_batchSize64_networkSeed0_p7_networkBiasTrue_dataSeed7.pth\r\n",
      "network_epoch3000_20000_batchSize64_networkSeed0_p7_networkBiasTrue_dataSeed0.pth\r\n",
      "network_epoch40000_200000_batchSize64_networkSeed0_p7_networkBiasTrue_dataSeed7.pth\r\n",
      "network_epoch4000_20000_batchSize64_networkSeed0_p7_networkBiasTrue_dataSeed0.pth\r\n",
      "network_epoch50000_200000_batchSize64_networkSeed0_p7_networkBiasTrue_dataSeed7.pth\r\n",
      "network_epoch5000_20000_batchSize64_networkSeed0_p7_networkBiasTrue_dataSeed0.pth\r\n",
      "network_epoch60000_200000_batchSize64_networkSeed0_p7_networkBiasTrue_dataSeed7.pth\r\n",
      "network_epoch6000_20000_batchSize64_networkSeed0_p7_networkBiasTrue_dataSeed0.pth\r\n",
      "network_epoch70000_200000_batchSize64_networkSeed0_p7_networkBiasTrue_dataSeed7.pth\r\n",
      "network_epoch7000_20000_batchSize64_networkSeed0_p7_networkBiasTrue_dataSeed0.pth\r\n",
      "network_epoch80000_200000_batchSize64_networkSeed0_p7_networkBiasTrue_dataSeed7.pth\r\n",
      "network_epoch8000_20000_batchSize64_networkSeed0_p7_networkBiasTrue_dataSeed0.pth\r\n",
      "network_epoch90000_200000_batchSize64_networkSeed0_p7_networkBiasTrue_dataSeed7.pth\r\n",
      "network_epoch9000_20000_batchSize64_networkSeed0_p7_networkBiasTrue_dataSeed0.pth\r\n"
     ]
    }
   ],
   "source": [
    "! ls change_seed_ver2/parameters/"
   ]
  },
  {
   "cell_type": "code",
   "execution_count": 8,
   "metadata": {},
   "outputs": [
    {
     "data": {
      "text/plain": [
       "'change_seed_ver2/parameters/network_epoch200000_batchSize64_networkSeed0_p7_networkBiasTrue_dataSeed7.pth'"
      ]
     },
     "execution_count": 8,
     "metadata": {},
     "output_type": "execute_result"
    }
   ],
   "source": [
    "parameter_path = \"change_seed_ver2/parameters/network_epoch200000_batchSize64_networkSeed0_p7_networkBiasTrue_dataSeed{0}.pth\".format(i)\n",
    "parameter_path"
   ]
  },
  {
   "cell_type": "code",
   "execution_count": 9,
   "metadata": {},
   "outputs": [],
   "source": [
    "# models.LinearPredictNet(p=hat_p, input_dim=1, is_bias=True)\n",
    "net = models.LinearPredictNet(p = p, input_dim=1, is_bias=True)"
   ]
  },
  {
   "cell_type": "code",
   "execution_count": 10,
   "metadata": {},
   "outputs": [
    {
     "data": {
      "text/plain": [
       "<All keys matched successfully>"
      ]
     },
     "execution_count": 10,
     "metadata": {},
     "output_type": "execute_result"
    }
   ],
   "source": [
    "net.load_state_dict(torch.load(parameter_path))"
   ]
  },
  {
   "cell_type": "code",
   "execution_count": 11,
   "metadata": {},
   "outputs": [
    {
     "data": {
      "text/plain": [
       "tensor([ 0.1168, -0.0907,  0.6041, -0.4822,  0.1798, -0.4074,  0.3503, -0.0297])"
      ]
     },
     "execution_count": 11,
     "metadata": {},
     "output_type": "execute_result"
    }
   ],
   "source": [
    "net.state_dict()[\"fc1.weight\"][0]"
   ]
  },
  {
   "cell_type": "code",
   "execution_count": 47,
   "metadata": {},
   "outputs": [
    {
     "data": {
      "text/plain": [
       "0.0038742783945053816"
      ]
     },
     "execution_count": 47,
     "metadata": {},
     "output_type": "execute_result"
    }
   ],
   "source": [
    "net.state_dict()[\"fc1.bias\"].item()"
   ]
  },
  {
   "cell_type": "code",
   "execution_count": 48,
   "metadata": {},
   "outputs": [
    {
     "data": {
      "text/plain": [
       "[0.3, -0.4, 0.2, -0.5, 0.6, -0.1, 0.1]"
      ]
     },
     "execution_count": 48,
     "metadata": {},
     "output_type": "execute_result"
    }
   ],
   "source": [
    "[0.3, -0.4, 0.2, -0.5, 0.6, -0.1, 0.1]"
   ]
  },
  {
   "cell_type": "code",
   "execution_count": 39,
   "metadata": {},
   "outputs": [
    {
     "name": "stdout",
     "output_type": "stream",
     "text": [
      "[ 0.02874842 -0.07622646  0.5611625  -0.4859038   0.14753151 -0.35869732\n",
      "  0.2780871   0.00105612]\n",
      "[0.20362435 0.09024195 0.198735   0.05197975 0.13810144 0.12194191\n",
      " 0.11677206 0.01688177]\n",
      "0.012232288299128414\n",
      "0.07086198724015266\n"
     ]
    }
   ],
   "source": [
    "params = []\n",
    "mu = []\n",
    "\n",
    "for i in range(10):\n",
    "    net = models.LinearPredictNet(p = p, input_dim=1, is_bias=True)\n",
    "    parameter_path = \"change_seed_ver2/parameters/network_epoch20000_batchSize64_networkSeed0_p7_networkBiasTrue_dataSeed{0}.pth\".format(i)\n",
    "    net.load_state_dict(torch.load(parameter_path))\n",
    "    params.append(np.array(net.state_dict()[\"fc1.weight\"][0]))\n",
    "    mu.append(net.state_dict()[\"fc1.bias\"].item())\n",
    "\n",
    "print(np.array(params).mean(axis = 0))\n",
    "print(np.array(params).std(axis = 0))\n",
    "\n",
    "print(np.array(mu).mean())\n",
    "print(np.array(mu).std())\n"
   ]
  }
 ],
 "metadata": {
  "kernelspec": {
   "display_name": "Python 3",
   "language": "python",
   "name": "python3"
  },
  "language_info": {
   "codemirror_mode": {
    "name": "ipython",
    "version": 3
   },
   "file_extension": ".py",
   "mimetype": "text/x-python",
   "name": "python",
   "nbconvert_exporter": "python",
   "pygments_lexer": "ipython3",
   "version": "3.6.2"
  }
 },
 "nbformat": 4,
 "nbformat_minor": 2
}
