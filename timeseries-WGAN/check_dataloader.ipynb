{
 "cells": [
  {
   "cell_type": "code",
   "execution_count": 1,
   "metadata": {},
   "outputs": [],
   "source": [
    "import argparse\n",
    "import os\n",
    "path = os.getcwd()\n",
    "path=path[:path.find('timeseries-WGAN')+15]\n",
    "import numpy as np\n",
    "from scipy import stats\n",
    "import math\n",
    "import sys\n",
    "sys.path.append(path+\"/\")\n",
    "import random\n",
    "import statsmodels.api as sm\n",
    "from scipy.stats import norm\n",
    "\n",
    "import torchvision.transforms as transforms\n",
    "from torchvision.utils import save_image\n",
    "\n",
    "import torch.nn as nn\n",
    "import torch.nn.functional as F\n",
    "import torch\n",
    "from torch.autograd import Variable\n",
    "\n",
    "# 人工データを生成してくれる機械が置いてあるところ\n",
    "import tsModel\n",
    "# 学習用のニューラルネットが置いてあるところ\n",
    "import models\n",
    "%matplotlib inline\n",
    "import matplotlib.pyplot as plt\n",
    "from matplotlib.patches import ArrowStyle\n",
    "import japanize_matplotlib\n",
    "import plotly\n",
    "from scipy.stats import gaussian_kde\n",
    "\n",
    "import warnings\n",
    "warnings.filterwarnings('ignore')"
   ]
  },
  {
   "cell_type": "markdown",
   "metadata": {},
   "source": [
    "# dataset作成"
   ]
  },
  {
   "cell_type": "code",
   "execution_count": 72,
   "metadata": {},
   "outputs": [],
   "source": [
    "data = np.array([0,1,2,3,4,5,6,7,8,9])"
   ]
  },
  {
   "cell_type": "markdown",
   "metadata": {},
   "source": [
    "# dataloaderのクラスを作成\n",
    "\n",
    "(X,Y)の組みとして、過去p時刻分の時系列をX, 今の時刻をYとするものを出力する。"
   ]
  },
  {
   "cell_type": "code",
   "execution_count": 73,
   "metadata": {},
   "outputs": [],
   "source": [
    "class DataSet:\n",
    "    def __init__(self, tsData, hat_p):\n",
    "        \"\"\"\n",
    "        tsData：時系列データ（今回は一次元の時系列を想定）\n",
    "        hat_p　：想定する次数\n",
    "        initで入力データと出力データを作成する。\n",
    "        \"\"\"\n",
    "        self.tsData =  torch.tensor(tsData, dtype=torch.float) # torch.tensorに変換\n",
    "        self.hat_p = hat_p\n",
    "        self.X, self.Y = self.make_XY(x=self.tsData, p=self.hat_p)\n",
    "    \n",
    "    def  __len__(self):\n",
    "        return len(self.X) # データ数を返す\n",
    "    \n",
    "    def __getitem__(self, index):\n",
    "        return self.X[index], self.Y[index]\n",
    "    \n",
    "    def make_XY(self, x:torch.tensor, p:int):\n",
    "#         x = torch.tensor(x, dtype=torch.float)\n",
    "        X = [x[i:i+p] for i in range(len(x)-p)]\n",
    "        Y = [x[i+p] for i in range(len(x)-p)]\n",
    "        return X, Y"
   ]
  },
  {
   "cell_type": "code",
   "execution_count": 85,
   "metadata": {},
   "outputs": [],
   "source": [
    "hat_p=3\n",
    "batch_size = 2\n",
    "\n",
    "dataset = DataSet(data, hat_p=hat_p)# インスタンスの作成\n",
    "dataloader = torch.utils.data.DataLoader(dataset, batch_size=batch_size, shuffle=True, drop_last=True)\n",
    "# dataloaderをiterで回すと、毎回入力と出力のペアがlistでくる"
   ]
  },
  {
   "cell_type": "code",
   "execution_count": 89,
   "metadata": {
    "scrolled": true
   },
   "outputs": [
    {
     "name": "stdout",
     "output_type": "stream",
     "text": [
      "tensor([[1., 2., 3.],\n",
      "        [6., 7., 8.]]) tensor([4., 9.])\n",
      "tensor([[3., 4., 5.],\n",
      "        [4., 5., 6.]]) tensor([6., 7.])\n",
      "tensor([[2., 3., 4.],\n",
      "        [0., 1., 2.]]) tensor([5., 3.])\n"
     ]
    }
   ],
   "source": [
    "for i in dataloader:\n",
    "    print(i[0], i[1])"
   ]
  },
  {
   "cell_type": "markdown",
   "metadata": {},
   "source": [
    "batchでランダムに生成されたデータセットとして出力される。"
   ]
  },
  {
   "cell_type": "markdown",
   "metadata": {},
   "source": [
    "### 実際に使う時はこのdataを使うね"
   ]
  },
  {
   "cell_type": "code",
   "execution_count": 2,
   "metadata": {},
   "outputs": [],
   "source": [
    "phi_a = [1.0, -0.5, 0.7, -0.4]\n",
    "phi_b = [1.0, -0.7]\n",
    "p = len(phi_a)\n",
    "q = len(phi_b)\n",
    "dataSeed=5\n",
    "N = 1000\n",
    "data = tsModel.ARIMA(a=phi_a, b=phi_b, N=N, random_seed=dataSeed, randomness='normal')\n",
    "inno = tsModel.ARIMA(a=phi_a, b=phi_b, N=N, random_seed=dataSeed, randomness='normal', return_innovation=True)"
   ]
  }
 ],
 "metadata": {
  "kernelspec": {
   "display_name": "Python 3",
   "language": "python",
   "name": "python3"
  },
  "language_info": {
   "codemirror_mode": {
    "name": "ipython",
    "version": 3
   },
   "file_extension": ".py",
   "mimetype": "text/x-python",
   "name": "python",
   "nbconvert_exporter": "python",
   "pygments_lexer": "ipython3",
   "version": "3.7.0"
  }
 },
 "nbformat": 4,
 "nbformat_minor": 2
}
