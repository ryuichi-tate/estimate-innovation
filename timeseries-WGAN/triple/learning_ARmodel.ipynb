{
 "cells": [
  {
   "cell_type": "code",
   "execution_count": 1,
   "metadata": {},
   "outputs": [],
   "source": [
    "%matplotlib inline\n",
    "import argparse\n",
    "import os\n",
    "path = os.getcwd()\n",
    "path=path[:path.find('timeseries-WGAN')+15]\n",
    "import warnings\n",
    "warnings.simplefilter('ignore')# 警告を非表示\n",
    "import numpy as np\n",
    "import matplotlib.pyplot as plt\n",
    "from scipy import stats\n",
    "import math\n",
    "import sys\n",
    "sys.path.append(path+\"/\")\n",
    "import random\n",
    "import time\n",
    "import statsmodels.api as sm\n",
    "from scipy.stats import norm\n",
    "import japanize_matplotlib\n",
    "from scipy.stats import gaussian_kde\n",
    "\n",
    "import torchvision.transforms as transforms\n",
    "from torchvision.utils import save_image\n",
    "\n",
    "import torch.nn as nn\n",
    "import torch.nn.functional as F\n",
    "import torch\n",
    "from torch.autograd import Variable"
   ]
  },
  {
   "cell_type": "code",
   "execution_count": 2,
   "metadata": {},
   "outputs": [],
   "source": [
    "# 人工データを生成してくれる機械が置いてあるところ\n",
    "import tsModel\n",
    "# 学習用のニューラルネットが置いてあるところ\n",
    "import models"
   ]
  },
  {
   "cell_type": "code",
   "execution_count": 3,
   "metadata": {},
   "outputs": [],
   "source": [
    "# \"output-images\"フォルダを作成（既にあるならそれで良し）\n",
    "os.makedirs(\"output-images\", exist_ok=True)\n",
    "os.makedirs(\"parameters\", exist_ok=True)"
   ]
  },
  {
   "cell_type": "markdown",
   "metadata": {},
   "source": [
    "## innovationの推定量$\\hat\\varepsilon_{t_0}|\\{X_{t}\\}_{t=t_0-p}^{t_0}$の分布$P_{\\hat\\varepsilon_{t_0}|\\{X_{t}\\}_{t=t_0-p}^{t_0}}$を調べる"
   ]
  },
  {
   "cell_type": "markdown",
   "metadata": {},
   "source": [
    "### $_{データセット}文字^{モデル構造}_{次元}$"
   ]
  },
  {
   "cell_type": "markdown",
   "metadata": {},
   "source": [
    "$p^{\\ast}=7$, $\\phi^{\\ast}=[0.3,-0.4,0.2,-0.5,0.6,-0.1,0.1]$, $\\mu^{\\ast}=0$, $\\sigma^{\\ast}=2$, $_{train}T=1000$<br>\n",
    "に従うARモデルから生成されるデータをランダムseedのindexが0~99の$n=100$セット作成する。"
   ]
  },
  {
   "cell_type": "code",
   "execution_count": 4,
   "metadata": {},
   "outputs": [],
   "source": [
    "phi_ast=[0.3,-0.4,0.2,-0.5,0.6,-0.1,0.1]\n",
    "p_ast=len(phi_ast)\n",
    "mu_ast=0\n",
    "sigma_ast=2"
   ]
  },
  {
   "cell_type": "code",
   "execution_count": 5,
   "metadata": {},
   "outputs": [],
   "source": [
    "trainT=1000\n",
    "n=100\n",
    "data_index = range(n)"
   ]
  },
  {
   "cell_type": "code",
   "execution_count": 6,
   "metadata": {},
   "outputs": [],
   "source": [
    "trainDataSets=[]\n",
    "for seed in data_index:\n",
    "    trainData = tsModel.SARIMA(a=phi_ast, N=trainT, random_seed=seed, mu=mu_ast, sigma=sigma_ast)\n",
    "    trainDataSets.append(trainData)\n",
    "#     plt.plot(trainData)\n",
    "#     plt.show()"
   ]
  },
  {
   "cell_type": "markdown",
   "metadata": {},
   "source": [
    "こいつらが訓練データ"
   ]
  },
  {
   "cell_type": "markdown",
   "metadata": {},
   "source": [
    "### 学習する推定モデルの形状や学習方法なんかを決定します"
   ]
  },
  {
   "cell_type": "code",
   "execution_count": 7,
   "metadata": {},
   "outputs": [
    {
     "name": "stderr",
     "output_type": "stream",
     "text": [
      "usage: ipykernel_launcher.py [-h] [--generator_seed GENERATOR_SEED]\n",
      "                             [--discriminator_seed DISCRIMINATOR_SEED]\n",
      "                             [--predictor_seed PREDICTOR_SEED]\n",
      "                             [--training_seed TRAINING_SEED]\n",
      "                             [--data_seed DATA_SEED] [--n_epochs N_EPOCHS]\n",
      "                             [--batch_size BATCH_SIZE] [--lr LR]\n",
      "                             [--n_critic N_CRITIC]\n",
      "                             [--discriminator_hidden_unit DISCRIMINATOR_HIDDEN_UNIT]\n",
      "                             [--withGP WITHGP] [--withCorr WITHCORR]\n",
      "                             [--sample_interval SAMPLE_INTERVAL]\n",
      "ipykernel_launcher.py: error: unrecognized arguments: -f /run/user/1165/jupyter/kernel-0c83137f-0d1b-4b54-b94d-992d57f0a15b.json\n"
     ]
    },
    {
     "name": "stdout",
     "output_type": "stream",
     "text": [
      "Gradient PenaltyをLossに加える時の重みを入力してください。(defaultは1.0)：1\n",
      "Gradient PenaltyのLoss内での重みは1.0です。\n",
      "相関係数の制約をLossに加える時の重みを入力してください。(defaultは1.0)：1\n",
      "相関係数に関する制約のLoss内での重みは1.0です。\n"
     ]
    }
   ],
   "source": [
    "# 学習時のハイパラの決定（入力を受け付ける）\n",
    "parser = argparse.ArgumentParser()\n",
    "# ランダムシードについて\n",
    "parser.add_argument(\"--generator_seed\", type=int, default=0, help=\"generatorのパラメータの初期値のシード\")\n",
    "parser.add_argument(\"--discriminator_seed\", type=int, default=0, help=\"discriminatorのパラメータの初期値のシード\")\n",
    "parser.add_argument(\"--predictor_seed\", type=int, default=0, help=\"predictorのパラメータの初期値のシード\")\n",
    "parser.add_argument(\"--training_seed\", type=int, default=0, help=\"訓練データを学習させる順番を決めるシード\")\n",
    "parser.add_argument(\"--data_seed\", type=int, default=0, help=\"Dataの作成に用いる乱数のseed\")\n",
    "# 学習方法について\n",
    "parser.add_argument(\"--n_epochs\", type=int, default=20000, help=\"Discriminatorを学習させる回数\")\n",
    "parser.add_argument(\"--batch_size\", type=int, default=64, help=\"batchの大きさ\")\n",
    "parser.add_argument(\"--lr\", type=float, default=0.00005, help=\"学習率\")\n",
    "parser.add_argument(\"--n_critic\", type=int, default=5, help=\"一度generatorを更新するごとに何回discriminatorを更新するか\")\n",
    "parser.add_argument(\"--discriminator_hidden_unit\", type=int, default=64, help=\"discriminatorの隠れ層のニューロンの数\")\n",
    "parser.add_argument(\"--withGP\", type=bool, default=True, help=\"clipingの代わりにGradient Penaltyを加えるかどうか。True/False\")\n",
    "parser.add_argument(\"--withCorr\", type=bool, default=False, help=\"Generatorの出力がbatch方向に無相関になるようなロスを加えるかどうか。　True/False\")\n",
    "# モデルの保存やLossの可視化について\n",
    "parser.add_argument(\"--sample_interval\", type=int, default=1000, help=\"epochを何回まわす度にモデルの保存を行うか\")\n",
    "\n",
    "try:\n",
    "    opt = parser.parse_args() # .pyの場合はこちらを使用(.ipynbの場合エラーになります)\n",
    "except:\n",
    "    opt = parser.parse_args(args=[]) # .ipynbの場合はこちらを使用\n",
    "\n",
    "opt.n_epochs=1\n",
    "opt.withCorr=True\n",
    "\n",
    "# Gradient PenaltyをLossに加える際の重みの設定\n",
    "if opt.withGP:\n",
    "    default_weight=1.0\n",
    "    gp_weight = input(\"Gradient PenaltyをLossに加える時の重みを入力してください。(defaultは{0})：\".format(default_weight))\n",
    "    try:\n",
    "        gp_weight = float(gp_weight)\n",
    "        if gp_weight<0:\n",
    "            gp_weight = default_weight\n",
    "    except:\n",
    "        gp_weight=default_weight\n",
    "    print(\"Gradient PenaltyのLoss内での重みは{0}です。\".format(gp_weight))\n",
    "else:\n",
    "    clip_value = input('discriminatorのパラメータをclipする値(正の数)を入力してください(defaultは0.01)：')\n",
    "    try:\n",
    "        clip_value=float(clip_value)\n",
    "        if clip_value<=0:\n",
    "            clip_value=0.01\n",
    "    except:\n",
    "        clip_value=0.01\n",
    "    print(\"clip値は\",clip_value,\"です。\")\n",
    "    gp_weight=0\n",
    "    \n",
    "# 相関係数の制約をLossに加える際の重みの設定\n",
    "default_weight = 1.0\n",
    "if opt.withCorr:\n",
    "    corr_weight= input(\"相関係数の制約をLossに加える時の重みを入力してください。(defaultは{0})：\".format(default_weight))\n",
    "    try:\n",
    "        corr_weight = float(corr_weight)\n",
    "        if corr_weight<0:\n",
    "            corr_weight = default_weight\n",
    "    except:\n",
    "        corr_weight=default_weight\n",
    "    print(\"相関係数に関する制約のLoss内での重みは{0}です。\".format(corr_weight))\n",
    "else:\n",
    "    corr_weight=0\n",
    "\n",
    "# Gradient Penalty項の計算\n",
    "def gradient_penalty(generated_data, real_data, gp_weight=10):\n",
    "\n",
    "    batch_size = real_data.size()[0]\n",
    "\n",
    "    alpha = torch.rand(batch_size, 1)\n",
    "    alpha = alpha.expand_as(real_data)\n",
    "    if cuda:\n",
    "        alpha=alpha.to(device)\n",
    "\n",
    "    interpolated = alpha * real_data.data + (1 - alpha) * generated_data.data\n",
    "    interpolated = Variable(interpolated, requires_grad=True)\n",
    "    if cuda:\n",
    "        interpolated=interpolated.to(device)\n",
    "\n",
    "    # Calculate probability of interpolated examples\n",
    "    prob_interpolated = discriminator(interpolated)\n",
    "\n",
    "    gradients = torch.autograd.grad(outputs=prob_interpolated, inputs=interpolated,\n",
    "                               grad_outputs=torch.ones(prob_interpolated.size()).to(device) if cuda else torch.ones(\n",
    "                               prob_interpolated.size()),\n",
    "                               create_graph=True, retain_graph=True)[0]\n",
    "\n",
    "    gradients = gradients.view(batch_size, -1)# これいらないかも...\n",
    "    \n",
    "    # gradients_norm = (gradients.norm(2, dim=1) - 1) ** 2\n",
    "    gradients_norm = torch.sqrt(torch.sum(gradients ** 2, dim=1) + 1e-12)# 0除算を防ぐ？\n",
    "\n",
    "    return gp_weight * ((gradients_norm - 1) ** 2).mean()\n",
    "\n",
    "def corr(x):\n",
    "    return (((x-x.mean())*(x-x.mean()).T)*(1-torch.eye(x.shape[0],x.shape[0]).to(device))).sum()/2/x.shape[0]"
   ]
  },
  {
   "cell_type": "code",
   "execution_count": 8,
   "metadata": {},
   "outputs": [
    {
     "name": "stdout",
     "output_type": "stream",
     "text": [
      "GPUが使えます。\n",
      "GPUを使いますか？ （Yes：1, No：0）  ----> 0\n"
     ]
    }
   ],
   "source": [
    "# gpuが使えるかどうか\n",
    "cuda = True if torch.cuda.is_available() else False\n",
    "if cuda:\n",
    "    print(\"GPUが使えます。\")\n",
    "    use_gpu = input('GPUを使いますか？ （Yes：1, No：0）  ----> ')\n",
    "    cuda = bool(int(use_gpu))\n",
    "else:\n",
    "    print(\"GPUは使えません。\")\n",
    "    \n",
    "if cuda:\n",
    "    gpu_id = input('使用するGPUの番号を入れてください : ')\n",
    "    os.environ[\"CUDA_VISIBLE_DEVICES\"] = gpu_id\n",
    "device = torch.device('cuda:'+gpu_id if cuda else 'cpu')"
   ]
  },
  {
   "cell_type": "markdown",
   "metadata": {},
   "source": [
    "### 推定モデルの決定"
   ]
  },
  {
   "cell_type": "markdown",
   "metadata": {},
   "source": [
    "#### $p=7$"
   ]
  },
  {
   "cell_type": "code",
   "execution_count": 9,
   "metadata": {},
   "outputs": [],
   "source": [
    "p=7"
   ]
  },
  {
   "cell_type": "code",
   "execution_count": 10,
   "metadata": {},
   "outputs": [],
   "source": [
    "os.makedirs(\"output-images/p{0}\".format(p), exist_ok=True)\n",
    "os.makedirs(\"parameters/p{0}\".format(p), exist_ok=True)"
   ]
  },
  {
   "cell_type": "code",
   "execution_count": 11,
   "metadata": {},
   "outputs": [],
   "source": [
    "torch.manual_seed(opt.generator_seed)\n",
    "generator = models.LinearGenerator(p = p, input_dim=1, is_bias=False)"
   ]
  },
  {
   "cell_type": "code",
   "execution_count": 12,
   "metadata": {},
   "outputs": [
    {
     "name": "stdout",
     "output_type": "stream",
     "text": [
      "input size   : torch.Size([64, 1, 8])\n",
      "output size: torch.Size([64, 1])\n"
     ]
    }
   ],
   "source": [
    "# 入出力のチェック\n",
    "a= torch.rand([opt.batch_size,1, p+1])\n",
    "print(\"input size   :\",a.shape)\n",
    "b = generator(a)\n",
    "print(\"output size:\",b.shape)"
   ]
  },
  {
   "cell_type": "code",
   "execution_count": 13,
   "metadata": {},
   "outputs": [],
   "source": [
    "torch.manual_seed(opt.discriminator_seed)\n",
    "discriminator = models.Discriminator(q=0, discriminator_hidden_unit=opt.discriminator_hidden_unit)"
   ]
  },
  {
   "cell_type": "code",
   "execution_count": 14,
   "metadata": {},
   "outputs": [
    {
     "name": "stdout",
     "output_type": "stream",
     "text": [
      "input size   : torch.Size([64, 1])\n",
      "output size: torch.Size([64, 1])\n"
     ]
    }
   ],
   "source": [
    "# 入出力のチェック\n",
    "a= torch.rand([opt.batch_size, 1])\n",
    "print(\"input size   :\",a.shape)\n",
    "b = discriminator(a)\n",
    "print(\"output size:\",b.shape)"
   ]
  },
  {
   "cell_type": "code",
   "execution_count": 15,
   "metadata": {},
   "outputs": [],
   "source": [
    "torch.manual_seed(opt.predictor_seed)\n",
    "predictor = models.LinearPredictNet(p=p, input_dim=1, is_bias=True)"
   ]
  },
  {
   "cell_type": "code",
   "execution_count": 16,
   "metadata": {},
   "outputs": [
    {
     "name": "stdout",
     "output_type": "stream",
     "text": [
      "input size   : torch.Size([64, 1, 8])\n",
      "output size: torch.Size([64, 1])\n"
     ]
    }
   ],
   "source": [
    "# 入出力のチェック\n",
    "a= torch.rand([opt.batch_size,1, p+1])\n",
    "print(\"input size   :\",a.shape)\n",
    "b = predictor(a)\n",
    "print(\"output size:\",b.shape)"
   ]
  },
  {
   "cell_type": "markdown",
   "metadata": {},
   "source": [
    "####  訓練データセットを一つ取ってきて、学習してみる"
   ]
  },
  {
   "cell_type": "markdown",
   "metadata": {},
   "source": [
    "seedが0の訓練データ"
   ]
  },
  {
   "cell_type": "code",
   "execution_count": 17,
   "metadata": {},
   "outputs": [
    {
     "data": {
      "text/plain": [
       "0"
      ]
     },
     "execution_count": 17,
     "metadata": {},
     "output_type": "execute_result"
    }
   ],
   "source": [
    "dataSeed=opt.data_seed\n",
    "dataSeed"
   ]
  },
  {
   "cell_type": "markdown",
   "metadata": {},
   "source": [
    "こいつをtrain:validation=900:100に分割する"
   ]
  },
  {
   "cell_type": "code",
   "execution_count": 18,
   "metadata": {},
   "outputs": [],
   "source": [
    "Data = trainDataSets[dataSeed]\n",
    "Data = torch.tensor(Data, dtype=torch.float)\n",
    "Data=Data.view(1,-1)\n",
    "trainData = Data[:,:900]\n",
    "valData = Data[:,900:]"
   ]
  },
  {
   "cell_type": "markdown",
   "metadata": {},
   "source": [
    "trainDataとvalDataを$\\{X_t\\}_{t=t_0-p}^{t_0}$ごとに取り出しやすいようにMatrixに変換する"
   ]
  },
  {
   "cell_type": "code",
   "execution_count": 19,
   "metadata": {},
   "outputs": [
    {
     "data": {
      "text/plain": [
       "torch.Size([893, 1, 8])"
      ]
     },
     "execution_count": 19,
     "metadata": {},
     "output_type": "execute_result"
    }
   ],
   "source": [
    "trainMatrix = []\n",
    "for i in range(trainData.shape[1]-(p)):\n",
    "    ans = trainData[:,i:i+p+1].view(1,Data.shape[0],-1)\n",
    "    trainMatrix.append(ans)\n",
    "trainMatrix = torch.cat(trainMatrix)\n",
    "trainMatrix.shape"
   ]
  },
  {
   "cell_type": "code",
   "execution_count": 20,
   "metadata": {},
   "outputs": [
    {
     "data": {
      "text/plain": [
       "torch.Size([93, 1, 8])"
      ]
     },
     "execution_count": 20,
     "metadata": {},
     "output_type": "execute_result"
    }
   ],
   "source": [
    "valMatrix = []\n",
    "for i in range(valData.shape[1]-(p)):\n",
    "    ans = valData[:,i:i+p+1].view(1,Data.shape[0],-1)\n",
    "    valMatrix.append(ans)\n",
    "valMatrix = torch.cat(valMatrix)\n",
    "valMatrix.shape"
   ]
  },
  {
   "cell_type": "markdown",
   "metadata": {},
   "source": [
    "##### 学習"
   ]
  },
  {
   "cell_type": "code",
   "execution_count": 21,
   "metadata": {},
   "outputs": [],
   "source": [
    "# Optimizers(パラメータに対して定義される)\n",
    "optimizer_G = torch.optim.RMSprop(params=generator.parameters(), lr=opt.lr)\n",
    "optimizer_D = torch.optim.RMSprop(params=discriminator.parameters(), lr=opt.lr)\n",
    "optimizer_F = torch.optim.Adam(params=predictor.parameters())"
   ]
  },
  {
   "cell_type": "code",
   "execution_count": 22,
   "metadata": {},
   "outputs": [],
   "source": [
    "mseLoss = nn.MSELoss()# 二条誤差MSE"
   ]
  },
  {
   "cell_type": "code",
   "execution_count": 23,
   "metadata": {},
   "outputs": [],
   "source": [
    "# パラメータと学習データをGPUに乗っける\n",
    "generator.to(device)\n",
    "discriminator.to(device)\n",
    "predictor.to(device)\n",
    "\n",
    "mseLoss.to(device)\n",
    "\n",
    "trainMatrix=trainMatrix.to(device)\n",
    "valMatrix=valMatrix.to(device)"
   ]
  },
  {
   "cell_type": "code",
   "execution_count": 24,
   "metadata": {
    "scrolled": true
   },
   "outputs": [
    {
     "name": "stdout",
     "output_type": "stream",
     "text": [
      "作成したモデルを1000epochごとに逐次保存しますか？ （Yes：1, No：0）  ----> 0\n"
     ]
    }
   ],
   "source": [
    "saveModel = input('作成したモデルを{0}epochごとに逐次保存しますか？ （Yes：1, No：0）  ----> '.format(opt.sample_interval))\n",
    "saveModel = bool(int(saveModel))"
   ]
  },
  {
   "cell_type": "code",
   "execution_count": 25,
   "metadata": {
    "scrolled": true
   },
   "outputs": [
    {
     "name": "stdout",
     "output_type": "stream",
     "text": [
      "epoch：1/1   batch：829/829   loss_D：-0.1187   loss_G： 0.1626   loss_F： 3.3732   経過時間： 3.4秒\n"
     ]
    }
   ],
   "source": [
    "batches_done = 0\n",
    "generator_done = 0# generatorを学習した回数\n",
    "predictor_done = 0\n",
    "\n",
    "# グラフ描画用\n",
    "loss_D_curve = []\n",
    "loss_G_curve = []\n",
    "loss_F_curve = []\n",
    "val_loss_D_curve = []\n",
    "val_loss_G_curve = []\n",
    "val_loss_F_curve = []\n",
    "p_value = []\n",
    "\n",
    "# 訓練データの時系列のどの時刻を学習に用いるかをランダムにしているが、そのランダムシードを固定する\n",
    "random.seed(a=opt.training_seed)\n",
    "\n",
    "start=time.time()\n",
    "for epoch in range(1, opt.n_epochs+1):# epochごとの処理(discriminatorのepoch)\n",
    "    \n",
    "    # epochごとにbatchで計算したlossを平均した値をloss_curveとして描きたい\n",
    "    loss_D_list = []\n",
    "    loss_G_list = []\n",
    "    loss_F_list = []\n",
    "    \n",
    "    # batchの処理は、0~892をランダムに並び替えたリストbatch_sampleを作成し、ここからbatch×(p+1)の学習データを一つづつ獲得する\n",
    "    l=list(range(trainMatrix.shape[0]-opt.batch_size))\n",
    "    batch_sample = random.sample(l, len(l))\n",
    "    for i, batch in enumerate(batch_sample):\n",
    "        \n",
    "        X = trainMatrix[batch : batch+opt.batch_size]# torch.Size([64, 1, 8]) (batch, dim, p+1)\n",
    "        X = Variable(X)# 自動微分可能に。(もういらないらしい？)\n",
    "        \n",
    "        \n",
    "        # ---------------------\n",
    "        #  Train Discriminator\n",
    "        # ---------------------\n",
    "        \n",
    "        for param in discriminator.parameters(): # discriminatorの勾配の更新をONにする\n",
    "            param.requires_grad = True \n",
    "            \n",
    "        if not opt.withGP:\n",
    "            # discriminatorのパラメタをクリップする（全てのパラメタの絶対値がclip_value以下の値になる）\n",
    "            for param in discriminator.parameters():\n",
    "                param.data.clamp_(-clip_value, clip_value)\n",
    "\n",
    "        # discriminatorの勾配情報を0に初期化する\n",
    "        optimizer_D.zero_grad()\n",
    "        \n",
    "        # 現在＋過去p時刻分の時系列をgeneratorで変換した値を取得\n",
    "        hat_normeps_t = generator(X)#.detach() # torch.Size([64, 4])\n",
    "        \n",
    "        # generatorの出力と同じ大きさの標準正規分布からのサンプルを作成\n",
    "        normeps_t = Variable(torch.randn_like(hat_normeps_t))\n",
    "        \n",
    "        # Adversarial loss すなわちWasserstein距離の符号を反転させたもの。（DiscriminatorはWasserstein距離を最大にする関数になりたい）\n",
    "        loss_D = -torch.mean(discriminator(normeps_t)) + torch.mean(discriminator(hat_normeps_t))\n",
    "        # GPも加えとく\n",
    "        if opt.withGP:\n",
    "            loss_D = loss_D + gradient_penalty(generated_data=hat_normeps_t, real_data=normeps_t, gp_weight=gp_weight) \n",
    "        loss_D_list.append(float(loss_D))\n",
    "        \n",
    "        # loss_Dを目的関数としてネットワークの全パラメータで微分をしてくれと言う合図、つまり今回ならdiscriminatorとgeneratorのパラメータの微分値を書き換えてくれということ\n",
    "        loss_D.backward()\n",
    "        # otimizerにしたがってパラメタを更新\n",
    "        optimizer_D.step()\n",
    "        \n",
    "        \n",
    "        # -----------------\n",
    "        #  Train Generator\n",
    "        # -----------------\n",
    "        \n",
    "        # discriminatorをopt.n_critic回学習させるごとに一回generatorを学習させる(ただし最初はめっちゃdiscriminatorを優先させる)\n",
    "        if batches_done % (100 if generator_done<25 or generator_done%500==0 else opt.n_critic) == 0:\n",
    "            \n",
    "            for param in discriminator.parameters():\n",
    "                param.requires_grad = False # discriminatorの勾配の更新をOFFにする\n",
    "\n",
    "            # generatorの勾配情報を0に初期化(discriminatorの学習時に勾配情報が更新されてしまっているため)\n",
    "            optimizer_G.zero_grad()\n",
    "\n",
    "            # 現在＋過去p時刻分の時系列をgeneratorで変換した値を取得(もう一回取得する必要があるのかな...?)\n",
    "            hat_normeps_t = generator(X)# torch.Size([64, 4])\n",
    "\n",
    "            # Adversarial loss(discriminatorの出力の期待値を大きくして、つまりWasserstein距離の第二項を大きくして、Wasserstein距離小さくしたい)\n",
    "            loss_G = -torch.mean(discriminator(hat_normeps_t))\n",
    "            # ここに相関係数を小さくするロスも加える？\n",
    "            if opt.withCorr:\n",
    "                loss_G = loss_G + corr_weight*corr(hat_normeps_t)\n",
    "            loss_G_list.append(float(loss_G))\n",
    "            \n",
    "            # loss_Gを目的関数としてネットワークの全パラメータで微分をしてくれと言う合図\n",
    "            loss_G.backward()\n",
    "            # generatorのパラメータをその微分値とoptimizerを使って更新してくれ！\n",
    "            optimizer_G.step()\n",
    "            \n",
    "            generator_done+=1\n",
    "\n",
    "        \n",
    "        # -----------------\n",
    "        #  Train Predictor\n",
    "        # -----------------\n",
    "        \n",
    "        # discriminatorをopt.n_critic回学習させるごとに一回predictorを学習させる(ただし最初はめっちゃdiscriminatorを優先させる)\n",
    "        if batches_done % (100 if predictor_done<25 or predictor_done%500==0 else opt.n_critic) == 0: # とりあえずgeneratorと同じ？\n",
    "        \n",
    "            # predictorの勾配情報を0に初期化(一応。前回の更新時の勾配情報をなくすため？)\n",
    "            optimizer_G.zero_grad()\n",
    "            optimizer_F.zero_grad()\n",
    "\n",
    "            # 正規化されたinnoationの推定量をgeneratorを用いて算出\n",
    "            hat_normeps_t = generator(X)\n",
    "            # これと過去p時刻の時系列の値（X_{t-1}, .... , X_{t-p}）をpredictorへ入力\n",
    "            input_tensor = torch.cat([hat_normeps_t.view(opt.batch_size, -1, 1), X[:,:,:-1]], dim=2)\n",
    "            prediction = predictor(input_tensor)\n",
    "            \n",
    "            loss_F = mseLoss(prediction, X[:,:,-1])\n",
    "            loss_F_list.append(float(loss_F))\n",
    "            \n",
    "            \n",
    "            loss_F.backward()\n",
    "            optimizer_F.step()\n",
    "            optimizer_G.step()\n",
    "            \n",
    "            predictor_done+=1\n",
    "        batches_done+=1\n",
    "\n",
    "    print(\"epoch：{0}/{1}   batch：{2:003}/{3}   loss_D：{4: .4f}   loss_G：{5: .4f}   loss_F：{6: .4f}   経過時間：{7: .1f}秒\".format(epoch, opt.n_epochs, i+1, len(batch_sample), round(float(loss_D), 4), round(float(loss_G), 4), round(float(loss_F), 4), time.time()-start))\n",
    "            \n",
    "    if saveModel and epoch % opt.sample_interval == 0:\n",
    "        torch.save(generator.state_dict(), 'parameters/p'+str(p)+'/generator_epoch{0}_batchSize{1}_GP{2}_Corr{3}_DataSeed{4}.pth'.format(epoch, opt.batch_size, int(gp_weight), int(corr_weight), dataSeed ))\n",
    "        torch.save(discriminator.state_dict(), 'parameters/p'+str(p)+'/discriminator_epoch{0}_batchSize{1}_GP{2}_Corr{3}_DataSeed{4}.pth'.format(epoch, opt.batch_size, int(gp_weight), int(corr_weight), dataSeed ))\n",
    "        torch.save(predictor.state_dict(), 'parameters/p'+str(p)+'/predictor_epoch{0}_batchSize{1}_GP{2}_Corr{3}_DataSeed{4}.pth'.format(epoch, opt.batch_size, int(gp_weight), int(corr_weight), dataSeed ))\n",
    "\n",
    "    # epochごとにbatchで計算したlossを平均した値をloss_curveとして描きたい\n",
    "    loss_D_curve.append(sum(loss_D_list)/len(loss_D_list))\n",
    "    loss_G_curve.append(sum(loss_G_list)/len(loss_G_list))\n",
    "    loss_F_curve.append(sum(loss_F_list)/len(loss_F_list))\n",
    "    \n",
    "    # validationデータによるlossも計算したい\n",
    "    val_hat_normeps_t = generator(valMatrix)\n",
    "    val_normeps_t = torch.randn_like(val_hat_normeps_t)\n",
    "    val_input_tensor = torch.cat([val_hat_normeps_t.view(-1, 1,1), valMatrix[:,:,:-1]], dim=2)\n",
    "    \n",
    "    val_loss_D = -torch.mean(discriminator(val_normeps_t)) + torch.mean(discriminator(val_hat_normeps_t))\n",
    "    if opt.withGP:\n",
    "        val_loss_D = val_loss_D + gradient_penalty(generated_data=val_hat_normeps_t, real_data=val_normeps_t, gp_weight=gp_weight) \n",
    "    val_loss_D_curve.append(float(val_loss_D))\n",
    "    \n",
    "    val_loss_G = -torch.mean(discriminator(val_hat_normeps_t))\n",
    "    if opt.withCorr:\n",
    "        val_loss_G = val_loss_G + corr_weight*corr(val_hat_normeps_t)\n",
    "    val_loss_G_curve.append(float(val_loss_G))\n",
    "    \n",
    "    val_loss_F = mseLoss(predictor(val_input_tensor), valMatrix[:,:,0])\n",
    "    val_loss_F_curve.append(float(val_loss_F))\n",
    "    \n",
    "    if epoch % 10==0:\n",
    "        plt.figure(figsize=(13,8))\n",
    "        plt.title(\"DiscriminatorのLossの遷移　\\n　batchSize:{0}, GPの係数:{1}, Corrの係数:{2}\".format(opt.batch_size, gp_weight, corr_weight))\n",
    "        plt.xlabel(\"epoch\")\n",
    "        plt.ylabel(\"Loss\")\n",
    "        plt.plot(loss_D_curve, label=\"training\")\n",
    "        plt.plot(val_loss_D_curve, label=\"validation\")\n",
    "        plt.legend()\n",
    "        plt.savefig(\"dloss.png\")\n",
    "        plt.close()\n",
    "\n",
    "        plt.figure(figsize=(13,8))\n",
    "        plt.title(\"GeneratorのLossの遷移　\\n　batchSize:{0}, GPの係数:{1}, Corrの係数:{2}\".format(opt.batch_size, gp_weight, corr_weight))\n",
    "        plt.xlabel(\"epoch\")\n",
    "        plt.ylabel(\"Loss\")\n",
    "        plt.plot(loss_G_curve, label=\"training\")\n",
    "        plt.plot(val_loss_G_curve, label=\"validation\")\n",
    "        plt.legend()\n",
    "        plt.savefig(\"gloss.png\")\n",
    "        plt.close()\n",
    "        \n",
    "        plt.figure(figsize=(13,8))\n",
    "        plt.title(\"PredictorのLossの遷移　\\n　batchSize:{0}, GPの係数:{1}, Corrの係数:{2}\".format(opt.batch_size, gp_weight, corr_weight))\n",
    "        plt.xlabel(\"epoch\")\n",
    "        plt.ylabel(\"Loss\")\n",
    "        plt.plot(loss_F_curve, label=\"training\")\n",
    "        plt.plot(val_loss_F_curve, label=\"validation\")\n",
    "        plt.legend()\n",
    "        plt.savefig(\"floss.png\")\n",
    "        plt.close()\n",
    "    \n",
    "#     break\n",
    "torch.save(generator.state_dict(), 'parameters/p'+str(p)+'/generator_epoch{0}_batchSize{1}_GP{2}_Corr{3}_DataSeed{4}.pth'.format(epoch, opt.batch_size, int(gp_weight), int(corr_weight), dataSeed ))\n",
    "torch.save(discriminator.state_dict(), 'parameters/p'+str(p)+'/discriminator_epoch{0}_batchSize{1}_GP{2}_Corr{3}_DataSeed{4}.pth'.format(epoch, opt.batch_size, int(gp_weight), int(corr_weight), dataSeed ))\n",
    "torch.save(predictor.state_dict(), 'parameters/p'+str(p)+'/predictor_epoch{0}_batchSize{1}_GP{2}_Corr{3}_DataSeed{4}.pth'.format(epoch, opt.batch_size, int(gp_weight), int(corr_weight), dataSeed ))\n"
   ]
  },
  {
   "cell_type": "code",
   "execution_count": 26,
   "metadata": {},
   "outputs": [
    {
     "data": {
      "image/png": "[encoded data removed]",
      "text/plain": [
       "<Figure size 936x576 with 1 Axes>"
      ]
     },
     "metadata": {
      "needs_background": "light"
     },
     "output_type": "display_data"
    }
   ],
   "source": [
    "plt.figure(figsize=(13,8))\n",
    "plt.title(\"DiscriminatorのLossの遷移　\\n　batchSize:{0}, GPの係数:{1}, Corrの係数:{2}\".format(opt.batch_size, gp_weight, corr_weight))\n",
    "plt.xlabel(\"epoch\")\n",
    "plt.ylabel(\"Loss\")\n",
    "plt.plot(loss_D_curve, label=\"training\")\n",
    "plt.plot(val_loss_D_curve, label=\"validation\")\n",
    "plt.legend()\n",
    "plt.savefig(\"output-images/p{0}/dloss_epoch{1}_batchSize{2}_GP{3}_Corr{4}_DataSeed{5}.png\".format(p, epoch, opt.batch_size, int(gp_weight), int(corr_weight), dataSeed ))\n",
    "plt.show()\n",
    "plt.close()"
   ]
  },
  {
   "cell_type": "code",
   "execution_count": 27,
   "metadata": {},
   "outputs": [
    {
     "data": {
      "image/png": "[encoded data removed]",
      "text/plain": [
       "<Figure size 936x576 with 1 Axes>"
      ]
     },
     "metadata": {
      "needs_background": "light"
     },
     "output_type": "display_data"
    }
   ],
   "source": [
    "plt.figure(figsize=(13,8))\n",
    "plt.title(\"GeneratorのLossの遷移　\\n　batchSize:{0}, GPの係数:{1}, Corrの係数:{2}\".format(opt.batch_size, gp_weight, corr_weight))\n",
    "plt.xlabel(\"epoch\")\n",
    "plt.ylabel(\"Loss\")\n",
    "plt.plot(loss_G_curve, label=\"training\")\n",
    "plt.plot(val_loss_G_curve, label=\"validation\")\n",
    "plt.legend()\n",
    "plt.savefig(\"output-images/p{0}/gloss_epoch{1}_batchSize{2}_GP{3}_Corr{4}_DataSeed{5}.png\".format(p, epoch, opt.batch_size, int(gp_weight), int(corr_weight), dataSeed ))\n",
    "plt.show()\n",
    "plt.close()"
   ]
  },
  {
   "cell_type": "code",
   "execution_count": 28,
   "metadata": {
    "scrolled": true
   },
   "outputs": [
    {
     "data": {
      "image/png": "[encoded data removed]",
      "text/plain": [
       "<Figure size 936x576 with 1 Axes>"
      ]
     },
     "metadata": {
      "needs_background": "light"
     },
     "output_type": "display_data"
    }
   ],
   "source": [
    "plt.figure(figsize=(13,8))\n",
    "plt.title(\"PredictorのLossの遷移　\\n　batchSize:{0}, GPの係数:{1}, Corrの係数:{2}\".format(opt.batch_size, gp_weight, corr_weight))\n",
    "plt.xlabel(\"epoch\")\n",
    "plt.ylabel(\"Loss\")\n",
    "plt.plot(loss_F_curve, label=\"training\")\n",
    "plt.plot(val_loss_F_curve, label=\"validation\")\n",
    "plt.legend()\n",
    "plt.savefig(\"output-images/p{0}/floss_epoch{1}_batchSize{2}_GP{3}_Corr{4}_DataSeed{5}.png\".format(p, epoch, opt.batch_size, int(gp_weight), int(corr_weight), dataSeed ))\n",
    "plt.show()\n",
    "plt.close()"
   ]
  }
 ],
 "metadata": {
  "kernelspec": {
   "display_name": "Python 3",
   "language": "python",
   "name": "python3"
  },
  "language_info": {
   "codemirror_mode": {
    "name": "ipython",
    "version": 3
   },
   "file_extension": ".py",
   "mimetype": "text/x-python",
   "name": "python",
   "nbconvert_exporter": "python",
   "pygments_lexer": "ipython3",
   "version": "3.6.2"
  }
 },
 "nbformat": 4,
 "nbformat_minor": 2
}
