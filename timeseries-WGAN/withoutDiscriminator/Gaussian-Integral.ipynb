{
 "cells": [
  {
   "cell_type": "code",
   "execution_count": 1,
   "metadata": {},
   "outputs": [],
   "source": [
    "# NumPyをインポート\n",
    "import numpy as np\n",
    "\n",
    "# SciPy積分パッケージをインポート\n",
    "from scipy import integrate\n",
    "\n",
    "import time\n",
    "import math\n",
    "import torch\n",
    "from scipy.stats import norm  # 正規分布"
   ]
  },
  {
   "cell_type": "markdown",
   "metadata": {},
   "source": [
    "### $\\int_{-1}^1 |x|dx$"
   ]
  },
  {
   "cell_type": "code",
   "execution_count": 2,
   "metadata": {},
   "outputs": [
    {
     "name": "stdout",
     "output_type": "stream",
     "text": [
      "1.0\n"
     ]
    }
   ],
   "source": [
    "# 関数を定義\n",
    "y = lambda x:np.abs(x)\n",
    "# yを0からpiまで数値積分\n",
    "ie = integrate.quad(y, -1,1)\n",
    "\n",
    "print(ie[0])#[1]成分は誤差"
   ]
  },
  {
   "cell_type": "markdown",
   "metadata": {},
   "source": [
    "### $\\int_0^1\\frac{1}{x^2+a^2}dx$, $a=2$"
   ]
  },
  {
   "cell_type": "code",
   "execution_count": 3,
   "metadata": {},
   "outputs": [
    {
     "name": "stdout",
     "output_type": "stream",
     "text": [
      "0.23182380450040307\n"
     ]
    }
   ],
   "source": [
    "# 関数を定義\n",
    "y = lambda x, a: 1/(x**2 + a**2)\n",
    "\n",
    "# a=2として、yを0から1まで積分\n",
    "iy, err = integrate.quad(y, 0, 1, args=2)\n",
    "\n",
    "print(iy)"
   ]
  },
  {
   "cell_type": "markdown",
   "metadata": {},
   "source": [
    "### $n\\geq 2$の時に$J_n = \\int_a^bx^ne^{-\\frac{x^2}{2}}dx$の計算が、直接積分するか再起関数を作るかどっちが早いか確かめる"
   ]
  },
  {
   "cell_type": "markdown",
   "metadata": {},
   "source": [
    "$n=50, a=0, b=1$でやってみる"
   ]
  },
  {
   "cell_type": "code",
   "execution_count": 4,
   "metadata": {},
   "outputs": [],
   "source": [
    "n=2\n",
    "a=-4\n",
    "b=np.inf"
   ]
  },
  {
   "cell_type": "markdown",
   "metadata": {},
   "source": [
    "まずは直接計算"
   ]
  },
  {
   "cell_type": "code",
   "execution_count": 5,
   "metadata": {},
   "outputs": [
    {
     "name": "stdout",
     "output_type": "stream",
     "text": [
      "2.5052070360891188\n",
      "計算時間： 0.0010712146759033203\n"
     ]
    }
   ],
   "source": [
    "y = lambda x, n: x**n*np.exp(-x**2/2)\n",
    "\n",
    "start=time.time()\n",
    "iy, err = integrate.quad(y, a, b, args=n)\n",
    "end=time.time()\n",
    "\n",
    "print(iy)\n",
    "print(\"計算時間：\",end-start)"
   ]
  },
  {
   "cell_type": "markdown",
   "metadata": {},
   "source": [
    "次は再起的に"
   ]
  },
  {
   "cell_type": "code",
   "execution_count": 6,
   "metadata": {},
   "outputs": [],
   "source": [
    "def torchJn(n, a, b):\n",
    "    if n==0:\n",
    "        return torch.sqrt(torch.tensor(np.pi/2))*( torch.erf(b/np.sqrt(2)) - torch.erf(a/np.sqrt(2)) )\n",
    "    elif n==1:\n",
    "        return torch.exp(-a**2/2.0)-torch.exp(-b**2/2.0)\n",
    "    else:\n",
    "        ret = 0\n",
    "        if not np.abs(a.item()) == np.inf:\n",
    "            ret += a**(n-1)*torch.exp(-a**2/2.0)\n",
    "        if not np.abs(b.item()) == np.inf:\n",
    "            ret -= b**(n-1)*torch.exp(-b**2/2.0)\n",
    "        ret += (n-1)*torchJn(n-2, a, b)\n",
    "        return ret"
   ]
  },
  {
   "cell_type": "code",
   "execution_count": 7,
   "metadata": {},
   "outputs": [
    {
     "name": "stdout",
     "output_type": "stream",
     "text": [
      "2.505207061767578\n",
      "計算時間： 0.0033409595489501953\n"
     ]
    }
   ],
   "source": [
    "start=time.time()\n",
    "iy = torchJn(n, torch.tensor(a), torch.tensor(b))\n",
    "end=time.time()\n",
    "print(iy.item())\n",
    "print(\"計算時間：\",end-start)"
   ]
  },
  {
   "cell_type": "code",
   "execution_count": null,
   "metadata": {},
   "outputs": [],
   "source": []
  },
  {
   "cell_type": "markdown",
   "metadata": {},
   "source": [
    "### $p> 0$の時に$J_n =\\frac{1}{\\sqrt{2\\pi}} \\int_a^b|x-c|^pe^{-\\frac{x^2}{2}}dx$の計算が、直接積分するか再起関数を作るかどっちが早いか確かめる"
   ]
  },
  {
   "cell_type": "code",
   "execution_count": 15,
   "metadata": {},
   "outputs": [],
   "source": [
    "p=2\n",
    "a= - np.inf\n",
    "b=0.9\n",
    "c=0.5"
   ]
  },
  {
   "cell_type": "code",
   "execution_count": 16,
   "metadata": {},
   "outputs": [
    {
     "name": "stdout",
     "output_type": "stream",
     "text": [
      "1.0465333683064262\n",
      "計算時間： 0.003323793411254883\n"
     ]
    }
   ],
   "source": [
    "y = lambda x, p: np.abs(x-c)**p*np.exp(-x**2/2)/np.sqrt(2*np.pi)\n",
    "\n",
    "start=time.time()\n",
    "iy, err = integrate.quad(y, a, b, args=p)\n",
    "end=time.time()\n",
    "\n",
    "print(iy)\n",
    "print(\"計算時間：\",end-start)"
   ]
  },
  {
   "cell_type": "code",
   "execution_count": 17,
   "metadata": {},
   "outputs": [],
   "source": [
    "def combinations_count(n, r):\n",
    "    return math.factorial(n) // (math.factorial(n - r) * math.factorial(r))\n",
    "def integral(a, b, c, p):\n",
    "    ret=0\n",
    "    if a>=c:\n",
    "        for i in range(p+1):\n",
    "            ret += combinations_count(p,i)*(-c)**i/np.sqrt(2*np.pi)*torchJn(n=p-i, a=a, b=b)\n",
    "    elif a<c and c<b:\n",
    "        ret = integral(a=a, b=c, c=c, p=p) + integral(a=c, b=b, c=c, p=p)\n",
    "    else:\n",
    "        for i in range(p+1):\n",
    "            ret += combinations_count(p,i)*c**i*(-1)**(p-i)/np.sqrt(2*np.pi)*torchJn(n=p-i, a=a, b=b)\n",
    "    return ret"
   ]
  },
  {
   "cell_type": "code",
   "execution_count": 18,
   "metadata": {},
   "outputs": [
    {
     "name": "stdout",
     "output_type": "stream",
     "text": [
      "1.0465333461761475\n",
      "計算時間： 0.0017223358154296875\n"
     ]
    }
   ],
   "source": [
    "integral(a=torch.tensor(a), b=torch.tensor(b), c=torch.tensor(c), p=p).item()\n",
    "\n",
    "start=time.time()\n",
    "iy = integral(a=torch.tensor(a), b=torch.tensor(b), c=torch.tensor(c), p=p).item()\n",
    "end=time.time()\n",
    "\n",
    "print(iy)\n",
    "print(\"計算時間：\",end-start)"
   ]
  },
  {
   "cell_type": "markdown",
   "metadata": {},
   "source": [
    "ま結局再起関数の方でやるのかね"
   ]
  },
  {
   "cell_type": "markdown",
   "metadata": {},
   "source": [
    "### $W_p=\\left\\{\\sum_{n=1}^N\\int_{\\Phi^{-1}(\\frac{n-1}{N})}^{\\Phi^{-1}(\\frac{n}{N})}|x_n-x|^pf_Q(x)dx\\right\\}^{\\frac{1}{p}}$"
   ]
  },
  {
   "cell_type": "code",
   "execution_count": 19,
   "metadata": {},
   "outputs": [
    {
     "data": {
      "text/plain": [
       "tensor(-1.2816)"
      ]
     },
     "execution_count": 19,
     "metadata": {},
     "output_type": "execute_result"
    }
   ],
   "source": [
    "# 標準正規分布の累積分布関数の逆関数\n",
    "torch.tensor(norm.ppf(q=0.1, loc=0, scale=1))"
   ]
  },
  {
   "cell_type": "code",
   "execution_count": 20,
   "metadata": {},
   "outputs": [],
   "source": [
    "def pWasserstein(x, p):\n",
    "    N=x.shape[0]\n",
    "    ret = 0\n",
    "    for n in range(1,N+1):\n",
    "        ret += integral(a=torch.tensor(norm.ppf(q=(n-1)/N, loc=0, scale=1)), b=torch.tensor(norm.ppf(q=n/N, loc=0, scale=1)),c=x[n-1],p=p)\n",
    "    return ret"
   ]
  },
  {
   "cell_type": "code",
   "execution_count": 21,
   "metadata": {},
   "outputs": [
    {
     "data": {
      "text/plain": [
       "tensor(0.9725)"
      ]
     },
     "execution_count": 21,
     "metadata": {},
     "output_type": "execute_result"
    }
   ],
   "source": [
    "x=torch.tensor([0.01,0.02,0.04,0.05])\n",
    "pWasserstein(x, p=2)"
   ]
  },
  {
   "cell_type": "code",
   "execution_count": null,
   "metadata": {},
   "outputs": [],
   "source": []
  }
 ],
 "metadata": {
  "kernelspec": {
   "display_name": "Python 3",
   "language": "python",
   "name": "python3"
  },
  "language_info": {
   "codemirror_mode": {
    "name": "ipython",
    "version": 3
   },
   "file_extension": ".py",
   "mimetype": "text/x-python",
   "name": "python",
   "nbconvert_exporter": "python",
   "pygments_lexer": "ipython3",
   "version": "3.6.2"
  }
 },
 "nbformat": 4,
 "nbformat_minor": 2
}
